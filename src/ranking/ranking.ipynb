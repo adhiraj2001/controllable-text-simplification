{
 "cells": [
  {
   "cell_type": "code",
   "execution_count": 2,
   "metadata": {},
   "outputs": [
    {
     "name": "stderr",
     "output_type": "stream",
     "text": [
      "/home/shreya/.venvs/gen-3.9.7/lib/python3.9/site-packages/tqdm/auto.py:21: TqdmWarning: IProgress not found. Please update jupyter and ipywidgets. See https://ipywidgets.readthedocs.io/en/stable/user_install.html\n",
      "  from .autonotebook import tqdm as notebook_tqdm\n"
     ]
    }
   ],
   "source": [
    "import numpy as np\n",
    "import random\n",
    "import json\n",
    "import pandas as pd\n",
    "import csv\n",
    "from nltk.tokenize import sent_tokenize, word_tokenize\n",
    "from evaluate import load"
   ]
  },
  {
   "cell_type": "code",
   "execution_count": 2,
   "metadata": {},
   "outputs": [],
   "source": [
    "DATA_PATH = \"../../data/10/dissim_dict.json\""
   ]
  },
  {
   "cell_type": "code",
   "execution_count": 34,
   "metadata": {},
   "outputs": [],
   "source": [
    "data = json.load(open(DATA_PATH, \"r\"))\n",
    "data_sz = len(data)\n",
    "data_x = list(data.keys())\n",
    "data_cand = list(data.values())\n",
    "with open('../../data/10/labels.txt', 'r') as f:\n",
    "    data_y = f.read().splitlines()"
   ]
  },
  {
   "cell_type": "code",
   "execution_count": null,
   "metadata": {},
   "outputs": [],
   "source": [
    "class FeatureExtractor:\n",
    "    @staticmethod\n",
    "    def jaccard_similarity(cand, label) :\n",
    "        cand_set, label_set = set(cand), set(label)\n",
    "        intersection = cand_set & label_set\n",
    "        union = cand_set | label_set\n",
    "        return len(intersection) / len(union)\n",
    "\n",
    "    @staticmethod\n",
    "    def get_feature_vector(cand, src):\n",
    "\n",
    "        features = []\n",
    "        word_tok_src, word_tok_cand = word_tokenize(src.lower()), word_tokenize(cand.lower())\n",
    "        wc_src, wc_cand = len(word_tok_src), len(word_tok_cand)\n",
    "        sc_cand = len(sent_tokenize(cand))\n",
    "        features.append(sc_cand * 1.0)\n",
    "        features.append(wc_src * 1.0)\n",
    "        features.append(FeatureExtractor.jaccard_similarity(word_tok_cand, word_tok_src))\n",
    "        features.append(wc_cand * 1.0 / wc_src)\n",
    "        features.append(wc_cand * 1.0 / sc_cand)\n",
    "\n",
    "        return features"
   ]
  },
  {
   "cell_type": "code",
   "execution_count": 4,
   "metadata": {},
   "outputs": [
    {
     "name": "stderr",
     "output_type": "stream",
     "text": [
      "Some weights of RobertaModel were not initialized from the model checkpoint at roberta-large and are newly initialized: ['roberta.pooler.dense.weight', 'roberta.pooler.dense.bias']\n",
      "You should probably TRAIN this model on a down-stream task to be able to use it for predictions and inference.\n"
     ]
    }
   ],
   "source": [
    "bertscore = load(\"bertscore\")\n",
    "predictions = [\"hello there\", \"general kenobi\"]\n",
    "references = [\"hello there\", \"general kenobi\"]\n",
    "results = bertscore.compute(predictions=predictions, references=references, lang=\"en\")"
   ]
  },
  {
   "cell_type": "code",
   "execution_count": 5,
   "metadata": {},
   "outputs": [],
   "source": [
    "predictions = [\"hello there\", \"general kenobi\"]\n",
    "references = [\"hello there\", \"general kenobi\"]\n",
    "results = bertscore.compute(predictions=predictions, references=references, lang=\"en\")"
   ]
  },
  {
   "cell_type": "code",
   "execution_count": null,
   "metadata": {},
   "outputs": [],
   "source": [
    "class Ranker:\n",
    "    def __init__(self, binner, model) -> None:\n",
    "        self.binner = binner\n",
    "        self.bertscore = load(\"bertscore\")\n",
    "        self.model = model\n",
    "\n",
    "\n",
    "    @staticmethod\n",
    "    def gold_score(cand, src, target, bertscore):\n",
    "        bs = bertscore.compute(predictions=[cand], references=[src], lang=\"en\")\n",
    "        len_src = len(word_tokenize(src))\n",
    "        phi_v = len(word_tokenize(cand)) * 1.0 / len_src\n",
    "        phi_y = len(word_tokenize(target)) * 1.0 / len_src\n",
    "        gs = np.exp(abs(phi_v - phi_y)) * bs\n",
    "        return gs\n",
    "\n",
    "\n",
    "    def gold_score(self, cand, src, target):\n",
    "        bs = self.bertscore.compute(predictions=[cand], references=[target], lang=\"en\")\n",
    "        len_src = len(word_tokenize(src))\n",
    "        phi_v = len(word_tokenize(cand)) * 1.0 / len_src\n",
    "        phi_y = len(word_tokenize(target)) * 1.0 / len_src\n",
    "        gs = np.exp(abs(phi_v - phi_y)) * bs\n",
    "        return gs\n",
    "\n",
    "\n",
    "    "
   ]
  }
 ],
 "metadata": {
  "kernelspec": {
   "display_name": "gen-3.9.7-ker",
   "language": "python",
   "name": "gen-3.9.7-ker"
  },
  "language_info": {
   "codemirror_mode": {
    "name": "ipython",
    "version": 3
   },
   "file_extension": ".py",
   "mimetype": "text/x-python",
   "name": "python",
   "nbconvert_exporter": "python",
   "pygments_lexer": "ipython3",
   "version": "3.9.7"
  },
  "orig_nbformat": 4
 },
 "nbformat": 4,
 "nbformat_minor": 2
}
