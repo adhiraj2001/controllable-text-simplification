{
 "cells": [
  {
   "cell_type": "code",
   "execution_count": 1,
   "metadata": {},
   "outputs": [],
   "source": [
    "import numpy as np\n",
    "import math"
   ]
  },
  {
   "cell_type": "code",
   "execution_count": 2,
   "metadata": {},
   "outputs": [],
   "source": [
    "class GaussinaBinner :\n",
    "    def __init__(self, bin_count, gamma) -> None:\n",
    "        self.bin_count = bin_count\n",
    "        self.gamma = gamma\n",
    "        self.means = None\n",
    "        self.sigmas = None\n",
    "\n",
    "    @staticmethod\n",
    "    def gaussian_distance(val, mean, sigma) :\n",
    "        return np.exp(-np.power(val - mean, 2.) / (2 * sigma * sigma))\n",
    "\n",
    "    def create_bins(self, x) :\n",
    "        feature_count = x.shape[1]\n",
    "        self.means = []\n",
    "        self.sigmas = []\n",
    "        for feature in range(feature_count) :\n",
    "            feature_vector = x[:, feature]\n",
    "            feature_min, feature_max = np.min(feature_vector), np.max(feature_vector)\n",
    "            bin_width = (feature_max - feature_min) / self.bin_count\n",
    "            bins = np.arange(self.bin_count + 1) * bin_width + feature_min\n",
    "            mean = np.array([bins[i] + bin_width / 2 for i in range(self.bin_count)])\n",
    "            sigma = bin_width * self.gamma\n",
    "            self.means.append(mean)\n",
    "            self.sigmas.append(sigma)\n",
    "        self.means = np.array(self.means)\n",
    "        self.sigmas = np.array(self.sigmas)\n",
    "    \n",
    "    def generate_vectors(self, x) :\n",
    "        x_reshaped = np.tile(x, (self.bin_count, 1, 1))\n",
    "        means_reshaped = np.tile(self.means.T.reshape(self.bin_count, 1, -1), (1, x.shape[0], 1))\n",
    "        sigmas_reshped = np.tile(self.sigmas, (self.bin_count, x.shape[0], 1))\n",
    "        gaussian = self.gaussian_distance(x_reshaped, means_reshaped, sigmas_reshped)\n",
    "        return np.roll(gaussian, 1, 0).rershaped(x.shape[0], -1)\n",
    "        \n",
    "    \n",
    "        "
   ]
  },
  {
   "cell_type": "code",
   "execution_count": 3,
   "metadata": {},
   "outputs": [],
   "source": [
    "binner = GaussinaBinner(10, 0.1)"
   ]
  },
  {
   "cell_type": "code",
   "execution_count": 6,
   "metadata": {},
   "outputs": [],
   "source": [
    "x = np.random.rand(100, 3)\n",
    "binner.create_bins(x)"
   ]
  },
  {
   "cell_type": "code",
   "execution_count": 7,
   "metadata": {},
   "outputs": [
    {
     "data": {
      "text/plain": [
       "(10, 100, 3)"
      ]
     },
     "execution_count": 7,
     "metadata": {},
     "output_type": "execute_result"
    }
   ],
   "source": [
    "binner.generate_vectors(x).shape"
   ]
  },
  {
   "cell_type": "code",
   "execution_count": 9,
   "metadata": {},
   "outputs": [
    {
     "data": {
      "text/plain": [
       "array([[[ 0,  1],\n",
       "        [ 2,  3],\n",
       "        [ 4,  5],\n",
       "        [ 6,  7],\n",
       "        [ 8,  9]],\n",
       "\n",
       "       [[10, 11],\n",
       "        [12, 13],\n",
       "        [14, 15],\n",
       "        [16, 17],\n",
       "        [18, 19]],\n",
       "\n",
       "       [[20, 21],\n",
       "        [22, 23],\n",
       "        [24, 25],\n",
       "        [26, 27],\n",
       "        [28, 29]]])"
      ]
     },
     "execution_count": 9,
     "metadata": {},
     "output_type": "execute_result"
    }
   ],
   "source": [
    "x = np.arange(30).reshape(3, 5, 2)\n",
    "x"
   ]
  },
  {
   "cell_type": "code",
   "execution_count": 18,
   "metadata": {},
   "outputs": [
    {
     "data": {
      "text/plain": [
       "(5, 3, 2)"
      ]
     },
     "execution_count": 18,
     "metadata": {},
     "output_type": "execute_result"
    }
   ],
   "source": [
    "np.rollaxis(x, 1, 0).shape"
   ]
  },
  {
   "cell_type": "code",
   "execution_count": 5,
   "metadata": {},
   "outputs": [
    {
     "name": "stdout",
     "output_type": "stream",
     "text": [
      "[-0.56201529 -1.6305026   1.50122813  0.86738263 -0.56291997 -1.97668295\n",
      " -0.81458752  0.78598459 -1.0277798  -0.49545628 -0.05517555  0.46545499]\n",
      "-1.9766829455063073 1.501228133509469\n",
      "[-1.97668295 -1.62889184 -1.28110073 -0.93330962 -0.58551851 -0.23772741\n",
      "  0.1100637   0.45785481  0.80564592  1.15343703  1.50122813]\n",
      "[-1.80278739 -1.45499628 -1.10720518 -0.75941407 -0.41162296 -0.06383185\n",
      "  0.28395926  0.63175036  0.97954147  1.32733258]\n"
     ]
    }
   ],
   "source": [
    "feature_vector = np.random.randn(12)\n",
    "print(feature_vector)\n",
    "feature_min, feature_max = np.min(feature_vector), np.max(feature_vector)\n",
    "print(feature_min, feature_max)\n",
    "bin_width = (feature_max - feature_min) / 10\n",
    "bins = np.arange(10 + 1) * bin_width + feature_min\n",
    "print(bins)\n",
    "means = np.array([bins[i] + bin_width / 2 for i in range(10)])\n",
    "print(means)"
   ]
  },
  {
   "cell_type": "code",
   "execution_count": 35,
   "metadata": {},
   "outputs": [
    {
     "data": {
      "text/plain": [
       "array([[0, 1, 2],\n",
       "       [3, 4, 5]])"
      ]
     },
     "execution_count": 35,
     "metadata": {},
     "output_type": "execute_result"
    }
   ],
   "source": [
    "b = np.arange(6).reshape(2, 3)\n",
    "b"
   ]
  },
  {
   "cell_type": "code",
   "execution_count": null,
   "metadata": {},
   "outputs": [],
   "source": []
  }
 ],
 "metadata": {
  "kernelspec": {
   "display_name": "gen-3.9.7-ker",
   "language": "python",
   "name": "gen-3.9.7-ker"
  },
  "language_info": {
   "codemirror_mode": {
    "name": "ipython",
    "version": 3
   },
   "file_extension": ".py",
   "mimetype": "text/x-python",
   "name": "python",
   "nbconvert_exporter": "python",
   "pygments_lexer": "ipython3",
   "version": "3.9.7"
  },
  "orig_nbformat": 4
 },
 "nbformat": 4,
 "nbformat_minor": 2
}
