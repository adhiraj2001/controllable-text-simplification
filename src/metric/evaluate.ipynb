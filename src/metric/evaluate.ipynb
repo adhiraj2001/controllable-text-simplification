{
 "cells": [
  {
   "cell_type": "markdown",
   "id": "7e12e2dd-377b-4fc0-8137-ec87275e05e0",
   "metadata": {},
   "source": [
    "# Qualitative Analysis"
   ]
  },
  {
   "cell_type": "code",
   "execution_count": 1,
   "id": "7d5c88b7-05ed-489e-80aa-5d2516f458a1",
   "metadata": {
    "execution": {
     "iopub.execute_input": "2023-12-03T07:19:21.734000Z",
     "iopub.status.busy": "2023-12-03T07:19:21.733539Z",
     "iopub.status.idle": "2023-12-03T07:19:21.747386Z",
     "shell.execute_reply": "2023-12-03T07:19:21.744990Z",
     "shell.execute_reply.started": "2023-12-03T07:19:21.733963Z"
    }
   },
   "outputs": [],
   "source": [
    "abs_root = '/ssd_scratch/cvit/adhiraj_deshmukh'\n",
    "abs_code = f'{abs_root}/ANLP-Project'\n",
    "abs_data = f'{abs_code}/data'"
   ]
  },
  {
   "cell_type": "code",
   "execution_count": null,
   "id": "b00e36e9-1046-4240-a355-56f4e5dc5fd2",
   "metadata": {},
   "outputs": [],
   "source": []
  },
  {
   "cell_type": "markdown",
   "id": "281f25c2-8cef-4b60-a628-26b0a599702c",
   "metadata": {},
   "source": [
    "## Load the Model"
   ]
  },
  {
   "cell_type": "code",
   "execution_count": 2,
   "id": "f6807b53-6d76-4b83-9017-65268e3048d5",
   "metadata": {
    "execution": {
     "iopub.execute_input": "2023-12-03T07:19:21.750178Z",
     "iopub.status.busy": "2023-12-03T07:19:21.749793Z",
     "iopub.status.idle": "2023-12-03T07:19:35.813933Z",
     "shell.execute_reply": "2023-12-03T07:19:35.812409Z",
     "shell.execute_reply.started": "2023-12-03T07:19:21.750137Z"
    }
   },
   "outputs": [],
   "source": [
    "# Load model directly\n",
    "from transformers import AutoTokenizer, AutoModelForSeq2SeqLM\n",
    "\n",
    "# bertscore = load(\"bertscore\", cache_dir=f'{abs_root}/hf_cache') \n",
    "\n",
    "# tokenizer =  AutoTokenizer.from_pretrained('facebook/bart-large-cnn', cache_dir=f'{abs_root}/hf_cache')\n",
    "tokenizer =  AutoTokenizer.from_pretrained('facebook/bart-large-cnn', cache_dir=f'{abs_root}/hf_cache', add_prefix_space=True)\n",
    "\n",
    "model = AutoModelForSeq2SeqLM.from_pretrained(f\"{abs_root}/bart_cnn\")\n",
    "# model =  AutoModelForSeq2SeqLM.from_pretrained('facebook/bart-large-cnn', cache_dir=f'{abs_root}/hf_cache')\n",
    "\n",
    "# model = model.eval()"
   ]
  },
  {
   "cell_type": "code",
   "execution_count": null,
   "id": "ebe69d70-935d-4806-b20b-a4eb3e4f5157",
   "metadata": {},
   "outputs": [],
   "source": []
  },
  {
   "cell_type": "markdown",
   "id": "03214ac2-ea22-4ee5-8555-0dd8295e0365",
   "metadata": {},
   "source": [
    "## Tokenize a Sample Article"
   ]
  },
  {
   "cell_type": "code",
   "execution_count": 3,
   "id": "2613b562-a823-4b90-92bc-6c08e0cbb5ba",
   "metadata": {
    "execution": {
     "iopub.execute_input": "2023-12-03T07:19:35.815889Z",
     "iopub.status.busy": "2023-12-03T07:19:35.815416Z",
     "iopub.status.idle": "2023-12-03T07:19:35.821889Z",
     "shell.execute_reply": "2023-12-03T07:19:35.821145Z",
     "shell.execute_reply.started": "2023-12-03T07:19:35.815861Z"
    }
   },
   "outputs": [],
   "source": [
    "ARTICLE_TO_SUMMARIZE = \"\"\"sebastian vettel is determined to ensure the return of a long-standing ritual at ferrari is not a one-off this season. fresh from ferrari's first victory in 35 grands prix in malaysia 11 days ago, and ending his own 20-race drought, vettel returned to a hero's welcome at the team's factory at maranello last week. the win allowed ferrari to revive a tradition not seen at their base for almost two years since their previous triumph in may 2013 at the spanish grand prix courtesy of fernando alonso. sebastian vettel reflected on his stunning win for ferrari at the malaysian grand prix during the press conference before the weekend's chinese grand prix in shanghai the four-time world champion shares a friendly discussion with mclaren star jenson button four-times world champion vettel said: 'it was a great victory we had in malaysia, great for us as a team, and for myself a very emotional day - my first win with ferrari. 'when i returned to the factory on wednesday, to see all the people there was quite special. there are a lot of people working there and as you can imagine they were very, very happy. 'the team hadn't won for quite a while, so they enjoyed the fact they had something to celebrate. there were a couple of rituals involved, so it was nice for them to get that feeling again.' asked as to the specific nature of the rituals, vettel replied: 'i was supposed to be there for simulator work anyway, but it was quite nice to receive the welcome after the win. ferrari's vettel and britta roeske arrive at the shanghai circuit along with a ferrari mechanic, vettel caught up with members of his old team red bull on thursday 'all the factory got together for a quick lunch. it was quite nice to have all the people together in one room - it was a big room! - so we were able to celebrate altogether for a bit. 'i also learned when you win with ferrari, at the entry gate, they raise a ferrari flag - and obviously it's been a long time since they last did that. 'some 10 years ago there were a lot of flags, especially at the end of a season, so this flag will stay there for the rest of the year. 'we will, of course, try and put up another one sometime soon.' inside the ferrari garage, vettel shares a discussion with team staff as he looks to build on his sepang win ferrari team principal maurizio arrivabene shares a conversation with vettel at the team's hospitality suite the feeling is that will not happen after this weekend's race in china as the conditions at the shanghai international circuit are expected to suit rivals mercedes. not that vettel believes his success will be a one-off, adding: 'for here and the next races, we should be able to confirm we have a strong package and a strong car. 'we will want to make sure we stay ahead of the people we were ahead of in the first couple of races, but obviously knowing mercedes are in a very, very strong position. 'in general, for the start of a season things can be up and down, and we want to make sure there is quite a lot of ups, not so many downs. 'but it's normal in some races you are more competitive than others. 'we managed to do a very good job in malaysia, but for here and the next races we have to be realistic about we want to achieve.' ferrari mechanics show their joy after vettel won the malaysian grand prix, helping record the team's first formula one win since 2013 at the spanish grand prix\"\"\""
   ]
  },
  {
   "cell_type": "code",
   "execution_count": null,
   "id": "2fefe192-62c9-414c-aec5-e61baa75a759",
   "metadata": {},
   "outputs": [],
   "source": [
    "tokenized_input = tokenizer([ARTICLE_TO_SUMMARIZE], max_length=512, truncation=True, return_tensors='pt')"
   ]
  },
  {
   "cell_type": "code",
   "execution_count": null,
   "id": "4be62fca-7724-463b-890d-13ce1e27c013",
   "metadata": {},
   "outputs": [],
   "source": []
  },
  {
   "cell_type": "markdown",
   "id": "a12d21c1-0465-459a-9758-c9bdc6d1a71a",
   "metadata": {},
   "source": [
    "## Summarize"
   ]
  },
  {
   "cell_type": "code",
   "execution_count": 5,
   "id": "1bfbad30-e49e-419c-93cb-af84853f9159",
   "metadata": {
    "execution": {
     "iopub.execute_input": "2023-12-03T07:19:35.844573Z",
     "iopub.status.busy": "2023-12-03T07:19:35.844207Z",
     "iopub.status.idle": "2023-12-03T07:19:37.376184Z",
     "shell.execute_reply": "2023-12-03T07:19:37.375255Z",
     "shell.execute_reply.started": "2023-12-03T07:19:35.844544Z"
    }
   },
   "outputs": [
    {
     "name": "stderr",
     "output_type": "stream",
     "text": [
      "/home2/adhiraj_deshmukh/envs/anlp/lib/python3.10/site-packages/transformers/generation/utils.py:1285: UserWarning: Unfeasible length constraints: `min_length` (56) is larger than the maximum possible length (15). Generation will stop at the defined maximum length. You should decrease the minimum length and/or increase the maximum length.\n",
      "  warnings.warn(\n"
     ]
    }
   ],
   "source": [
    "summary_ids = model.generate(tokenized_input['input_ids'], max_length=15, early_stopping=True)"
   ]
  },
  {
   "cell_type": "code",
   "execution_count": 6,
   "id": "6cc00f24-8a10-4fb6-8049-21fa812174c5",
   "metadata": {
    "execution": {
     "iopub.execute_input": "2023-12-03T07:19:37.377503Z",
     "iopub.status.busy": "2023-12-03T07:19:37.377276Z",
     "iopub.status.idle": "2023-12-03T07:19:37.382697Z",
     "shell.execute_reply": "2023-12-03T07:19:37.381936Z",
     "shell.execute_reply.started": "2023-12-03T07:19:37.377478Z"
    }
   },
   "outputs": [
    {
     "name": "stdout",
     "output_type": "stream",
     "text": [
      "['\\'. . . . \\' \\' \\' \" \" \"']\n"
     ]
    }
   ],
   "source": [
    "print([tokenizer.decode(g, skip_special_tokens=True, clean_up_tokenization_spaces=False) for g in summary_ids])"
   ]
  },
  {
   "cell_type": "code",
   "execution_count": 7,
   "id": "41a766b0-ddfa-4a56-b6ef-b76e1127bf25",
   "metadata": {
    "execution": {
     "iopub.execute_input": "2023-12-03T07:19:37.385240Z",
     "iopub.status.busy": "2023-12-03T07:19:37.384954Z",
     "iopub.status.idle": "2023-12-03T07:19:37.390281Z",
     "shell.execute_reply": "2023-12-03T07:19:37.389363Z",
     "shell.execute_reply.started": "2023-12-03T07:19:37.385215Z"
    }
   },
   "outputs": [
    {
     "name": "stdout",
     "output_type": "stream",
     "text": [
      "0: '....'''\" \" \"\n"
     ]
    }
   ],
   "source": [
    "for i, beam in enumerate(summary_ids):\n",
    "    print(f'{i}: {tokenizer.decode(beam, skip_special_tokens=True)}')"
   ]
  },
  {
   "cell_type": "code",
   "execution_count": null,
   "id": "fd0bbf38-3102-4cfc-88e7-f0fd07c8a9bf",
   "metadata": {},
   "outputs": [],
   "source": []
  },
  {
   "cell_type": "markdown",
   "id": "418b212a-2cfc-473f-a726-d4a8313af796",
   "metadata": {},
   "source": [
    "## Example-2"
   ]
  },
  {
   "cell_type": "code",
   "execution_count": 8,
   "id": "2ca0bda9-bb45-41c1-926a-b6c92d28a196",
   "metadata": {
    "execution": {
     "iopub.execute_input": "2023-12-03T07:19:37.391469Z",
     "iopub.status.busy": "2023-12-03T07:19:37.391195Z",
     "iopub.status.idle": "2023-12-03T07:20:12.239413Z",
     "shell.execute_reply": "2023-12-03T07:20:12.238591Z",
     "shell.execute_reply.started": "2023-12-03T07:19:37.391431Z"
    }
   },
   "outputs": [
    {
     "name": "stderr",
     "output_type": "stream",
     "text": [
      "/home2/adhiraj_deshmukh/envs/anlp/lib/python3.10/site-packages/transformers/generation/configuration_utils.py:367: UserWarning: `do_sample` is set to `False`. However, `top_p` is set to `0.95` -- this flag is only used in sample-based generation modes. You should set `do_sample=True` or unset `top_p`.\n",
      "  warnings.warn(\n",
      "/home2/adhiraj_deshmukh/envs/anlp/lib/python3.10/site-packages/transformers/generation/configuration_utils.py:377: UserWarning: `do_sample` is set to `False`. However, `top_k` is set to `4` -- this flag is only used in sample-based generation modes. You should set `do_sample=True` or unset `top_k`.\n",
      "  warnings.warn(\n"
     ]
    },
    {
     "name": "stdout",
     "output_type": "stream",
     "text": [
      "0 arierryprojectproject project project project researcherscerscerscersResearchers Researchers Researchers ResearcherscersResearcherscers Researcherscers Researchers ResearchersResearchersResearchers ResearchersResearchers Researchers Scientists Scientists Scientists Researchers Scientists Researchers Researchers They They They Who They Who Who Who They They She She She Who Who She She They Who She Who She They She Who They She They They... ) ) ) :.. : ) : : :. : : ).. ; : : ; ; : ) ) ; :. ) : ; : ; ) :,,, :, : :, ; :,..,, ) : ) ] ] ] : ) ; ) ) ] : : ] > > >>>> >> > > <<<<><< <<>>< < << <>> <<.<<< </<<><<<</<<>.>>>...>>..... : ;.. ] ><<.. : :.. ;. :. ; ; ; ) ; ;. ) ;. ; ),, ; ;., ;. ; :. ;. :., : ;.. ) ; } : ; ] : ;  ; ; ] ; ;,,. :. ) :. : ;? : :? : ; > > : ; } > >. ) ). :? >>. ) ] ) ; ] ) :? ; :?..,. ;    : :   ;, ; ).. ). ;.. ). ), ;  ) ;  : ; { : ::... ; ; } } : : { :: : :;. ; }. :...?..?. ; ). :?. ::.. }. );. : ). ;. ). )?. )? }. ;? }. ; }.. ), ; :: ; ;; ; :; ; ; {:. ;, :? } }. ] ] ) )? ; ;\n",
      "0 arierryprojectproject project project project researcherscerscerscersResearchers Researchers Researchers ResearcherscersResearcherscers Researcherscers Researchers ResearchersResearchersResearchers ResearchersResearchers Researchers Scientists Scientists Scientists Researchers Scientists Researchers Researchers They They They Who They Who Who Who They They She She She Who Who She She They Who She Who She They She Who They She They They... ) ) ) :.. : ) : : :. : : ).. ; : : ; ; : ) ) ; :. ) : ; : ; ) :,,, :, : :, ; :,..,, ) : ) ] ] ] : ) ; ) ) ] : : ] > > >>>> >> > > <<<<><< <<>>< < << <>> <<.<<< </<<><<<</<<>.>>>...>>..... : ;.. ] ><<.. : :.. ;. :. ; ; ; ) ; ;. ) ;. ; ),, ; ;., ;. ; :. ;. :., : ;.. ) ; } : ; ] : ;  ; ; ] ; ;,,. :. ) :. : ;? : :? : ; > > : ; } > >. ) ). :? >>. ) ] ) ; ] ) :? ; :?..,. ;    : :   ;, ; ).. ). ;.. ). ), ;  ) ;  : ; { : ::... ; ; } } : : { :: : :;. ; }. :...?..?. ; ). :?. ::.. }. );. : ). ;. ). )?. )? }. ;? }. ; }.. ), ; :: ; ;; ; :; ; ; {:. ;, :? } }. ] ] ) )?\n",
      "0 arierryprojectproject project project project researcherscerscerscersResearchers Researchers Researchers ResearcherscersResearcherscers Researcherscers Researchers ResearchersResearchersResearchers ResearchersResearchers Researchers Scientists Scientists Scientists Researchers Scientists Researchers Researchers They They They Who They Who Who Who They They She She She Who Who She She They Who She Who She They She Who They She They They... ) ) ) :.. : ) : : :. : : ).. ; : : ; ; : ) ) ; :. ) : ; : ; ) :,,, :, : :, ; :,..,, ) : ) ] ] ] : ) ; ) ) ] : : ] > > >>>> >> > > <<<<><< <<>>< < << <>> <<.<<< </<<><<<</<<>.>>>...>>..... : ;.. ] ><<.. : :.. ;. :. ; ; ; ) ; ;. ) ;. ; ),, ; ;., ;. ; :. ;. :., : ;.. ) ; } : ; ] : ;  ; ; ] ; ;,,. :. ) :. : ;? : :? : ; > > : ; } > >. ) ). :? >>. ) ] ) ; ] ) :? ; :?..,. ;    : :   ;, ; ).. ). ;.. ). ), ;  ) ;  : ; { : ::... ; ; } } : : { :: : :;. ; }. :...?..?. ; ). :?. ::.. }. );. : ). ;. ). )?. )? }. ;? }. ; }.. ), ; :: ; ;; ; :; ; ;?\n",
      "0 arierryprojectproject project project project researcherscerscerscersResearchers Researchers Researchers ResearcherscersResearcherscers Researcherscers Researchers ResearchersResearchersResearchers ResearchersResearchers Researchers Scientists Scientists Scientists Researchers Scientists Researchers Researchers They They They Who They Who Who Who They They She She She Who Who She She They Who She Who She They She Who They She They They... ) ) ) :.. : ) : : :. : : ).. ; : : ; ; : ) ) ; :. ) : ; : ; ) :,,, :, : :, ; :,..,, ) : ) ] ] ] : ) ; ) ) ] : : ] > > >>>> >> > > <<<<><< <<>>< < << <>> <<.<<< </<<><<<</<<>.>>>...>>..... : ;.. ] ><<.. : :.. ;. :. ; ; ; ) ; ;. ) ;. ; ),, ; ;., ;. ; :. ;. :., : ;.. ) ; } : ; ] : ;  ; ; ] ; ;,,. :. ) :. : ;? : :? : ; > > : ; } > >. ) ). :? >>. ) ] ) ; ] ) :? ; :?..,. ;    : :   ;, ; ).. ). ;.. ). ), ;  ) ;  : ; { : ::... ; ; } } : : { :: : :;. ; }. :...?..?. ; ). :?. ::.. }. );. : ). ;. ). )?. )? }. ;? }. ; }.. ), ; :: ; ;?\n",
      "0 arierryprojectproject project project project researcherscerscerscersResearchers Researchers Researchers ResearcherscersResearcherscers Researcherscers Researchers ResearchersResearchersResearchers ResearchersResearchers Researchers Scientists Scientists Scientists Researchers Scientists Researchers Researchers They They They Who They Who Who Who They They She She She Who Who She She They Who She Who She They She Who They She They They... ) ) ) :.. : ) : : :. : : ).. ; : : ; ; : ) ) ; :. ) : ; : ; ) :,,, :, : :, ; :,..,, ) : ) ] ] ] : ) ; ) ) ] : : ] > > >>>> >> > > <<<<><< <<>>< < << <>> <<.<<< </<<><<<</<<>.>>>...>>..... : ;.. ] ><<.. : :.. ;. :. ; ; ; ) ; ;. ) ;. ; ),, ; ;., ;. ; :. ;. :., : ;.. ) ; } : ; ] : ;  ; ; ] ; ;,,. :. ) :. : ;? : :? : ; > > : ; } > >. ) ). :? >>. ) ] ) ; ] ) :? ; :?..,. ;    : :   ;, ; ).. ). ;.. ). ), ;  ) ;  : ; { : ::... ; ; } } : : { :: : :;. ; }. :...?..?. ; ). :?. ::.. }. );. : ). ;. ). )?. )? }. ;? }. ; }.. ),, :: ; ;?\n",
      "0 arierryprojectproject project project project researcherscerscerscersResearchers Researchers Researchers ResearcherscersResearcherscers Researcherscers Researchers ResearchersResearchersResearchers ResearchersResearchers Researchers Scientists Scientists Scientists Researchers Scientists Researchers Researchers They They They Who They Who Who Who They They She She She Who Who She She They Who She Who She They She Who They She They They... ) ) ) :.. : ) : : :. : : ).. ; : : ; ; : ) ) ; :. ) : ; : ; ) :,,, :, : :, ; :,..,, ) : ) ] ] ] : ) ; ) ) ] : : ] > > >>>> >> > > <<<<><< <<>>< < << <>> <<.<<< </<<><<<</<<>.>>>...>>..... : ;.. ] ><<.. : :.. ;. :. ; ; ; ) ; ;. ) ;. ; ),, ; ;., ;. ; :. ;. :., : ;.. ) ; } : ; ] : ;  ; ; ] ; ;,,. :. ) :. : ;? : :? : ; > > : ; } > >. ) ). :? >>. ) ] ) ; ] ) :? ; :?..,. ;    : :   ;, ; ).. ). ;.. ). ), ;  ) ;  : ; { : ::... ; ; } } : : { :: : :;. ; }. :...?..?. ; ). :?. ::.. }. );. : ). ;. ). )?. )? }. ;? }. ; }\n",
      "0 arierryprojectproject project project project researcherscerscerscersResearchers Researchers Researchers ResearcherscersResearcherscers Researcherscers Researchers ResearchersResearchersResearchers ResearchersResearchers Researchers Scientists Scientists Scientists Researchers Scientists Researchers Researchers They They They Who They Who Who Who They They She She She Who Who She She They Who She Who She They She Who They She They They... ) ) ) :.. : ) : : :. : : ).. ; : : ; ; : ) ) ; :. ) : ; : ; ) :,,, :, : :, ; :,..,, ) : ) ] ] ] : ) ; ) ) ] : : ] > > >>>> >> > > <<<<><< <<>>< < << <>> <<.<<< </<<><<<</<<>.>>>...>>..... : ;.. ] ><<.. : :.. ;. :. ; ; ; ) ; ;. ) ;. ; ),, ; ;., ;. ; :. ;. :., : ;.. ) ; } : ; ] : ;  ; ; ] ; ;,,. :. ) :. : ;? : :? : ; > > : ; } > >. ) ). :? >>. ) ] ) ; ] ) :? ; :?..,. ;    : :   ;, ; ).. ). ;.. ). ), ;  ) ;  : ; { : ::... ; ; } } : : { :: : :;. ; }. :...?..?. ; ). :?. ::.. }. );. : ). ;. ). )?. )? }. ;?\n",
      "0 arierryprojectproject project project project researcherscerscerscersResearchers Researchers Researchers ResearcherscersResearcherscers Researcherscers Researchers ResearchersResearchersResearchers ResearchersResearchers Researchers Scientists Scientists Scientists Researchers Scientists Researchers Researchers They They They Who They Who Who Who They They She She She Who Who She She They Who She Who She They She Who They She They They... ) ) ) :.. : ) : : :. : : ).. ; : : ; ; : ) ) ; :. ) : ; : ; ) :,,, :, : :, ; :,..,, ) : ) ] ] ] : ) ; ) ) ] : : ] > > >>>> >> > > <<<<><< <<>>< < << <>> <<.<<< </<<><<<</<<>.>>>...>>..... : ;.. ] ><<.. : :.. ;. :. ; ; ; ) ; ;. ) ;. ; ),, ; ;., ;. ; :. ;. :., : ;.. ) ; } : ; ] : ;  ; ; ] ; ;,,. :. ) :. : ;? : :? : ; > > : ; } > >. ) ). :? >>. ) ] ) ; ] ) :? ; :?..,. ;    : :   ;, ; ).. ). ;.. ). ), ;  ) ;  : ; { : ::... ; ; } } : : { :: : :;. ; }. :...?..?. ; ). :?. ::.. }. );. : ). ;. ). )?. )?\n",
      "0 arierryprojectproject project project project researcherscerscerscersResearchers Researchers Researchers ResearcherscersResearcherscers Researcherscers Researchers ResearchersResearchersResearchers ResearchersResearchers Researchers Scientists Scientists Scientists Researchers Scientists Researchers Researchers They They They Who They Who Who Who They They She She She Who Who She She They Who She Who She They She Who They She They They... ) ) ) :.. : ) : : :. : : ).. ; : : ; ; : ) ) ; :. ) : ; : ; ) :,,, :, : :, ; :,..,, ) : ) ] ] ] : ) ; ) ) ] : : ] > > >>>> >> > > <<<<><< <<>>< < << <>> <<.<<< </<<><<<</<<>.>>>...>>..... : ;.. ] ><<.. : :.. ;. :. ; ; ; ) ; ;. ) ;. ; ),, ; ;., ;. ; :. ;. :., : ;.. ) ; } : ; ] : ;  ; ; ] ; ;,,. :. ) :. : ;? : :? : ; > > : ; } > >. ) ). :? >>. ) ] ) ; ] ) :? ; :?..,. ;    : :   ;, ; ).. ). ;.. ). ), ;  ) ;  : ;\n",
      "0 arierryprojectproject project project project researcherscerscerscersResearchers Researchers Researchers ResearcherscersResearcherscers Researcherscers Researchers ResearchersResearchersResearchers ResearchersResearchers Researchers Scientists Scientists Scientists Researchers Scientists Researchers Researchers They They They Who They Who Who Who They They She She She Who Who She She They Who She Who She They She Who They She They They... ) ) ) :.. : ) : : :. : : ).. ; : : ; ; : ) ) ; :. ) : ; : ; ) :,,, :, : :, ; :,..,, ) : ) ] ] ] : ) ; ) ) ] : : ] > > >>>> >> > > <<<<><< <<>>< < << <>> <<.<<< </<<><<<</<<>.>>>...>>..... : ;.. ] ><<.. : :.. ;. :. ; ; ; ) ; ;. ) ;. ; ),, ; ;., ;. ; :. ;. :., : ;.. ) ; } : ; ] : ;  ; ; ] ; ;,,. :. ) :. : ;? : :? : ; > > : ; } > >. ) ). :? >>. ) ] ) ; ] ) :? ; :?..,. ;    : :   ;, ;,.. ). ;.. ). ), ;  ) ;  : ;\n"
     ]
    }
   ],
   "source": [
    "text = \"Since, 2010, project researchers have uncovered documents in portugal that have revealed who owned the ship.\"\n",
    "\n",
    "# encode the text into tensor of integers using the appropriate tokenizer\n",
    "inputs = tokenizer.encode(\"paraphrase: \" + text, return_tensors=\"pt\", max_length=512, truncation=True)\n",
    "\n",
    "max_l = 512\n",
    "num_b = 10\n",
    "num_sub_b =1\n",
    "\n",
    "# generate text until the output length (which includes the context length) reaches 50\n",
    "beam_outputs = model.generate(inputs,max_length=max_l,num_beams=num_b,early_stopping=True,\n",
    "    no_repeat_ngram_size=3,\n",
    "    num_return_sequences=10,\n",
    "    top_k=4, top_p=0.95\n",
    "    # return_dict_in_generate=True,\n",
    ")\n",
    "\n",
    "for x, beam in enumerate(beam_outputs):\n",
    "    print(\"{} {}\".format(i, tokenizer.decode(beam, skip_special_tokens=True)))"
   ]
  },
  {
   "cell_type": "code",
   "execution_count": null,
   "id": "288bede8-6822-47de-a5e3-2c39baf2764e",
   "metadata": {},
   "outputs": [],
   "source": []
  },
  {
   "cell_type": "markdown",
   "id": "ec4cc7de-7d57-443e-90cd-d1ac32942f1d",
   "metadata": {},
   "source": [
    "## Example-3"
   ]
  },
  {
   "cell_type": "code",
   "execution_count": 9,
   "id": "23ad0ac4-b854-444d-86bd-8d3e70a5d070",
   "metadata": {
    "execution": {
     "iopub.execute_input": "2023-12-03T07:20:12.240936Z",
     "iopub.status.busy": "2023-12-03T07:20:12.240690Z",
     "iopub.status.idle": "2023-12-03T07:20:17.365688Z",
     "shell.execute_reply": "2023-12-03T07:20:17.365025Z",
     "shell.execute_reply.started": "2023-12-03T07:20:12.240909Z"
    }
   },
   "outputs": [
    {
     "name": "stdout",
     "output_type": "stream",
     "text": [
      "0 '.... ) ) ) :.. : ) : ) ) ;.... :. ) : :.... ) :. ) ). ). :.. : ).. :. : : : ). : :. :. ;. : ;. ; : ) ; :.. ;:.. ;...:. ).... )) ) ))..\n",
      "0 '.... ) ) ) :.. : ) : ) ) ;.... :. ) : :.... ) :. ) ). ). :.. : ).. :. : : : ). : :. :. ;. : ;. ; : ) ; :.. ;:.. ;...:. ).... )) ) )):..\n",
      "0 '.... ) ) ) :.. : ) : ) ) ;.... :. ) : :.... ) :. ) ). ). :.. : ).. :. : : : ). : :. :. ;. : ;. ; : ) ; :.. ;:.. ;...:. ).... )) ) )). )\n",
      "0 '.... ) ) ) :.. : ) : ) ) ;.... :. ) : :.... ) :. ) ). ). :.. : ).. :. : : : ). : :. :. ;. : ;. ; : ) ; :.. ;:.. ;...:. ).... )) )..\n",
      "0 '.... ) ) ) :.. : ) : ) ) ;.... :. ) : :.... ) :. ) ). ). :.. : ).. :. : : : ). : :. :. ;. : ;. ; : ) ; :.. ;:.. ;...:. ).:..: )..\n",
      "0 '.... ) ) ) :.. : ) : ) ) ;.... :. ) : :.... ) :. ) ). ). :.. : ).. :. : : : ). : :. :. ;. : ;. ; : ) ; :.. ;:.. ;...:. ).... )) ) )\n",
      "0 '.... ) ) ) :.. : ) : ) ) ;.... :. ) : :.... ) :. ) ). ). :.. : ).. :. : : : ). : :. :. ;. : ;. ; : ) ; :.. ;:.. ;...:. ).... )) ).\n",
      "0 '.... ) ) ) :.. : ) : ) ) ;.... :. ) : :.... ) :. ) ). ). :.. : ).. :. : : : ). : :. :. ;. : ;. ; : ) ; :.. ;:.. ;...:..:.. )..\n",
      "0 '.... ) ) ) :.. : ) : ) ) ;.... :. ) : :.... ) :. ) ). ). :.. : ).. :. : : : ). : :. :. ;. : ;. ; : ) ; :.. ;:.. ;...:..:. )..\n",
      "0 '.... ) ) ) :.. : ) : ) ) ;.... :. ) : :.... ) :. ) ). ). :.. : ).. :. : : : ). : :. :. ;. : ;. ; : ) ; :.. ;:.. ;...:. ).:..\n"
     ]
    }
   ],
   "source": [
    "text = \"Experts say China's air pollution exacts a tremendous toll on human health.\"\n",
    "\n",
    "# encode the text into tensor of integers using the appropriate tokenizer\n",
    "inputs = tokenizer.encode(\"paraphrase: \" + text, return_tensors=\"pt\", max_length=512, truncation=True)\n",
    "\n",
    "max_l = 512\n",
    "num_b = 10\n",
    "num_sub_b =1\n",
    "\n",
    "# generate text until the output length (which includes the context length) reaches 50\n",
    "beam_outputs = model.generate(inputs,max_length=max_l,num_beams=num_b,early_stopping=True,\n",
    "    no_repeat_ngram_size=3,\n",
    "    num_return_sequences=10,\n",
    "    top_k=4, top_p=0.95\n",
    "    # return_dict_in_generate=True,\n",
    ")\n",
    "\n",
    "for x, beam in enumerate(beam_outputs):\n",
    "    print(\"{} {}\".format(i, tokenizer.decode(beam, skip_special_tokens=True)))"
   ]
  },
  {
   "cell_type": "code",
   "execution_count": null,
   "id": "3b3db0b7-a2e3-4f79-8080-975d6d2f8758",
   "metadata": {},
   "outputs": [],
   "source": []
  },
  {
   "cell_type": "markdown",
   "id": "38cff76f-e429-4dd9-b025-d6ff5f8c2bf1",
   "metadata": {},
   "source": [
    "## Evaluate"
   ]
  },
  {
   "cell_type": "code",
   "execution_count": 10,
   "id": "0e72a64e-3822-4412-96d2-b606106b16c0",
   "metadata": {
    "execution": {
     "iopub.execute_input": "2023-12-03T07:20:17.366948Z",
     "iopub.status.busy": "2023-12-03T07:20:17.366694Z",
     "iopub.status.idle": "2023-12-03T07:20:17.370163Z",
     "shell.execute_reply": "2023-12-03T07:20:17.369614Z",
     "shell.execute_reply.started": "2023-12-03T07:20:17.366925Z"
    }
   },
   "outputs": [],
   "source": [
    "# # load rouge for validation\n",
    "# rouge = datasets.load_metric(\"rouge\")\n",
    "\n",
    "# def compute_metrics(pred):\n",
    "#     labels_ids = pred.label_ids\n",
    "#     pred_ids = pred.predictions\n",
    "\n",
    "#     # all unnecessary tokens are removed\n",
    "#     pred_str = tokenizer.batch_decode(pred_ids, skip_special_tokens=True)\n",
    "#     labels_ids[labels_ids == -100] = tokenizer.pad_token_id\n",
    "#     label_str = tokenizer.batch_decode(labels_ids, skip_special_tokens=True)\n",
    "\n",
    "#     rouge_output = rouge.compute(predictions=pred_str, references=label_str, rouge_types=[\"rouge2\"])[\"rouge2\"].mid\n",
    "\n",
    "#     return {\n",
    "#         \"rouge2_precision\": round(rouge_output.precision, 4),\n",
    "#         \"rouge2_recall\": round(rouge_output.recall, 4),\n",
    "#         \"rouge2_fmeasure\": round(rouge_output.fmeasure, 4),\n",
    "#     }"
   ]
  },
  {
   "cell_type": "code",
   "execution_count": 11,
   "id": "a2dbb604-af7b-478f-84bd-7510a4f0ea70",
   "metadata": {
    "execution": {
     "iopub.execute_input": "2023-12-03T07:20:17.371236Z",
     "iopub.status.busy": "2023-12-03T07:20:17.370976Z",
     "iopub.status.idle": "2023-12-03T07:20:17.378534Z",
     "shell.execute_reply": "2023-12-03T07:20:17.377537Z",
     "shell.execute_reply.started": "2023-12-03T07:20:17.371214Z"
    }
   },
   "outputs": [],
   "source": [
    "# import datasets\n",
    "# from transformers import BertTokenizer, EncoderDecoderModel\n",
    "\n",
    "# tokenizer = BertTokenizer.from_pretrained(\"bert-base-uncased\")\n",
    "# model = EncoderDecoderModel.from_pretrained(\"./checkpoint-16\")\n",
    "# model.to(\"cuda\")\n",
    "\n",
    "# test_data = datasets.load_dataset(\"cnn_dailymail\", \"3.0.0\", split=\"test\")\n",
    "\n",
    "# # only use 16 training examples for notebook - DELETE LINE FOR FULL TRAINING\n",
    "# test_data = test_data.select(range(16))\n",
    "\n",
    "# batch_size = 16  # change to 64 for full evaluation\n",
    "\n",
    "# # map data correctly\n",
    "# def generate_summary(batch):\n",
    "#     # Tokenizer will automatically set [BOS] <text> [EOS]\n",
    "#     # cut off at BERT max length 512\n",
    "#     inputs = tokenizer(batch[\"article\"], padding=\"max_length\", truncation=True, max_length=512, return_tensors=\"pt\")\n",
    "#     input_ids = inputs.input_ids.to(\"cuda\")\n",
    "#     attention_mask = inputs.attention_mask.to(\"cuda\")\n",
    "\n",
    "#     outputs = model.generate(input_ids, attention_mask=attention_mask)\n",
    "\n",
    "#     # all special tokens including will be removed\n",
    "#     output_str = tokenizer.batch_decode(outputs, skip_special_tokens=True)\n",
    "\n",
    "#     batch[\"pred\"] = output_str\n",
    "\n",
    "#     return batch\n",
    "\n",
    "# results = test_data.map(generate_summary, batched=True, batch_size=batch_size, remove_columns=[\"article\"])\n",
    "\n",
    "# pred_str = results[\"pred\"]\n",
    "# label_str = results[\"highlights\"]\n",
    "\n",
    "# rouge_output = rouge.compute(predictions=pred_str, references=label_str, rouge_types=[\"rouge2\"])[\"rouge2\"].mid\n",
    "\n",
    "# print(rouge_output)"
   ]
  }
 ],
 "metadata": {
  "kernelspec": {
   "display_name": "anlp",
   "language": "python",
   "name": "anlp"
  },
  "language_info": {
   "codemirror_mode": {
    "name": "ipython",
    "version": 3
   },
   "file_extension": ".py",
   "mimetype": "text/x-python",
   "name": "python",
   "nbconvert_exporter": "python",
   "pygments_lexer": "ipython3",
   "version": "3.10.2"
  }
 },
 "nbformat": 4,
 "nbformat_minor": 5
}
