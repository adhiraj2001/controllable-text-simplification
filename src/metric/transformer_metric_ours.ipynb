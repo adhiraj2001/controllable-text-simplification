{
 "cells": [
  {
   "cell_type": "code",
   "execution_count": 1,
   "metadata": {},
   "outputs": [
    {
     "name": "stderr",
     "output_type": "stream",
     "text": [
      "/home2/aparna/miniconda3/envs/new/lib/python3.8/site-packages/tqdm/auto.py:21: TqdmWarning: IProgress not found. Please update jupyter and ipywidgets. See https://ipywidgets.readthedocs.io/en/stable/user_install.html\n",
      "  from .autonotebook import tqdm as notebook_tqdm\n"
     ]
    }
   ],
   "source": [
    "# Load model directly\n",
    "from transformers import AutoTokenizer, AutoModelForSeq2SeqLM\n",
    "import csv\n",
    "import pandas as pd\n",
    "from transformers import BertTokenizer, BertModel, BertForMaskedLM\n",
    "\n",
    "#Encoder-Decoder Model\n",
    "from transformers import EncoderDecoderModel\n",
    "from transformers import Seq2SeqTrainer\n",
    "from transformers import Trainer\n",
    "from evaluate import load\n",
    "#Training\n",
    "\n",
    "from transformers import TrainingArguments\n",
    "from transformers import  Seq2SeqTrainingArguments\n",
    "from dataclasses import dataclass, field\n",
    "from typing import Optional\n",
    "\n",
    "from datasets import Dataset\n",
    "import datasets\n",
    "import torch\n",
    "import torch.nn as nn\n",
    "import torch.nn.functional as F\n",
    "from torch.nn import CrossEntropyLoss, MSELoss\n",
    "# bertscore = load(\"bertscore\") \n",
    "tokenizer =  AutoTokenizer.from_pretrained(\"t5-small\",cahe_dir='/ssd_scratch/cvit/aparna/t5_small')\n",
    "model = AutoModelForSeq2SeqLM.from_pretrained(\"/ssd_scratch/cvit/aparna/t5_simplification_final\")"
   ]
  },
  {
   "cell_type": "code",
   "execution_count": 2,
   "metadata": {},
   "outputs": [],
   "source": [
    "import evaluate\n",
    "import numpy as np\n",
    "from tqdm import tqdm\n",
    "import json\n",
    "from nltk.tokenize import RegexpTokenizer\n",
    "bleu_metric = evaluate.load(\"sacrebleu\")\n",
    "sari_metric = evaluate.load(\"sari\")\n",
    "\n",
    "def tokenize_sentence(arg):\n",
    "    encoded_arg =tokenizer(arg)\n",
    "    return tokenizer.convert_ids_to_tokens(encoded_arg.input_ids)\n",
    "\n",
    "def metrics_func(eval_arg):\n",
    "    print(len(eval_arg[0]),len(eval_arg[1]),len(eval_arg[2]))\n",
    "    print(len(eval_arg))\n",
    "    text_inputs = eval_arg[0]\n",
    "    text_preds = eval_arg[1]\n",
    "    text_labels = eval_arg[2]\n",
    "    texts_bleu =[text.strip() for text in text_preds]\n",
    "    labels_bleu = [[text.strip()] for text in text_labels[0]]\n",
    "    result = bleu_metric.compute(predictions=texts_bleu, references=text_labels)\n",
    "    return result[\"score\"],sari_metric.compute(\n",
    "        predictions=text_preds,\n",
    "        references=text_labels,\n",
    "        sources=text_inputs,\n",
    "    )['sari']"
   ]
  },
  {
   "cell_type": "code",
   "execution_count": 3,
   "metadata": {},
   "outputs": [
    {
     "name": "stderr",
     "output_type": "stream",
     "text": [
      "  0%|          | 0/10000 [00:00<?, ?it/s]/home2/aparna/miniconda3/envs/new/lib/python3.8/site-packages/transformers/generation/configuration_utils.py:386: UserWarning: `do_sample` is set to `False`. However, `top_p` is set to `0.95` -- this flag is only used in sample-based generation modes. You should set `do_sample=True` or unset `top_p`.\n",
      "  warnings.warn(\n",
      "/home2/aparna/miniconda3/envs/new/lib/python3.8/site-packages/transformers/generation/configuration_utils.py:396: UserWarning: `do_sample` is set to `False`. However, `top_k` is set to `4` -- this flag is only used in sample-based generation modes. You should set `do_sample=True` or unset `top_k`.\n",
      "  warnings.warn(\n",
      " 34%|███▎      | 3356/10000 [48:48<1:33:36,  1.18it/s]"
     ]
    }
   ],
   "source": [
    "import pandas as pd\n",
    "test_data = pd.read_csv(\"../../data/10/test.csv\")\n",
    "test_data = test_data.dropna()\n",
    "test_data = test_data.reset_index(drop=True)\n",
    "#take 1000 samples\n",
    "test_data = test_data[:10000]\n",
    "texts = test_data[\"source\"].tolist()\n",
    "labels = test_data[\"target\"].tolist()\n",
    "\n",
    "\n",
    "metrics =[]\n",
    "inpu = []\n",
    "cands = []\n",
    "lab = []\n",
    "max_l = 512\n",
    "num_b = 10\n",
    "num_sub_b =1\n",
    "\n",
    "for  i  in tqdm(range(len(texts))):\n",
    "    text = texts[i]\n",
    "    # encode the text into tensor of integers using the appropriate tokenizer\n",
    "    inputs = tokenizer.encode(\"paraphrase: \" + text, return_tensors=\"pt\", max_length=512, truncation=True)\n",
    "\n",
    "    # generate text until the output length (which includes the context length) reaches 50\n",
    "    beam_outputs = model.generate(inputs,max_length=max_l,num_beams=num_b,early_stopping=True,\n",
    "        no_repeat_ngram_size=3,\n",
    "        num_return_sequences=num_b,\n",
    "        top_k=4, top_p=0.95\n",
    "        # return_dict_in_generate=True,\n",
    "    )\n",
    "   # print(\"====================================\")\n",
    "    inpu.extend([text]*10)\n",
    "    c =[]\n",
    "    for x, beam in enumerate(beam_outputs):\n",
    "        #print(\"{}\".format(i, tokenizer.decode(beam, skip_special_tokens=True)))\n",
    "        c.append(tokenizer.decode(beam, skip_special_tokens=True))\n",
    "    cands.extend(c)\n",
    "    lab.extend([[labels[i]]]*10)\n",
    "    eval_arg = [inpu,cands,lab]\n",
    "\n",
    "\n",
    "print(len(inpu),len(cands),len(lab))\n",
    "metric = metrics_func(eval_arg)\n",
    "print(metric)\n"
   ]
  },
  {
   "cell_type": "code",
   "execution_count": null,
   "metadata": {},
   "outputs": [
    {
     "name": "stderr",
     "output_type": "stream",
     "text": [
      "  0%|          | 0/10000 [00:00<?, ?it/s]/home2/aparna/miniconda3/envs/new/lib/python3.8/site-packages/transformers/generation/configuration_utils.py:386: UserWarning: `do_sample` is set to `False`. However, `top_p` is set to `0.95` -- this flag is only used in sample-based generation modes. You should set `do_sample=True` or unset `top_p`.\n",
      "  warnings.warn(\n",
      "/home2/aparna/miniconda3/envs/new/lib/python3.8/site-packages/transformers/generation/configuration_utils.py:396: UserWarning: `do_sample` is set to `False`. However, `top_k` is set to `4` -- this flag is only used in sample-based generation modes. You should set `do_sample=True` or unset `top_k`.\n",
      "  warnings.warn(\n",
      "100%|██████████| 10000/10000 [1:39:52<00:00,  1.67it/s] \n"
     ]
    },
    {
     "name": "stdout",
     "output_type": "stream",
     "text": [
      "10000 10000 10000\n",
      "10000 10000 10000\n",
      "3\n",
      "(0.04406381827914688, 36.21581566046019)\n"
     ]
    }
   ],
   "source": [
    "import pandas as pd\n",
    "test_data = pd.read_csv(\"../../data/10/test.csv\")\n",
    "test_data = test_data.dropna()\n",
    "test_data = test_data.reset_index(drop=True)\n",
    "#take 1000 samples\n",
    "test_data = test_data[:10000]\n",
    "texts = test_data[\"source\"].tolist()\n",
    "labels = test_data[\"target\"].tolist()\n",
    "\n",
    "\n",
    "metrics =[]\n",
    "inpu = []\n",
    "cands = []\n",
    "lab = []\n",
    "max_l = 512\n",
    "num_b = 10\n",
    "num_sub_b =1\n",
    "\n",
    "for  i  in tqdm(range(len(texts))):\n",
    "    text = texts[i]\n",
    "    # encode the text into tensor of integers using the appropriate tokenizer\n",
    "    inputs = tokenizer.encode(\"paraphrase: \" + text, return_tensors=\"pt\", max_length=512, truncation=True)\n",
    "\n",
    "    # generate text until the output length (which includes the context length) reaches 50\n",
    "    beam_outputs = model.generate(inputs,max_length=max_l,num_beams=num_b,early_stopping=True,\n",
    "        no_repeat_ngram_size=3,\n",
    "        num_return_sequences=1,\n",
    "        top_k=4, top_p=0.95\n",
    "        # return_dict_in_generate=True,\n",
    "    )\n",
    "   # print(\"====================================\")\n",
    "    inpu.extend([text]*1)\n",
    "    c =[]\n",
    "    for x, beam in enumerate(beam_outputs):\n",
    "        #print(\"{}\".format(i, tokenizer.decode(beam, skip_special_tokens=True)))\n",
    "        c.append(tokenizer.decode(beam, skip_special_tokens=True))\n",
    "    cands.extend(c)\n",
    "    lab.extend([[labels[i]]]*1)\n",
    "    eval_arg = [inpu,cands,lab]\n",
    "\n",
    "\n",
    "print(len(inpu),len(cands),len(lab))\n",
    "metric = metrics_func(eval_arg)\n",
    "print(metric)\n"
   ]
  },
  {
   "cell_type": "code",
   "execution_count": null,
   "metadata": {},
   "outputs": [
    {
     "name": "stderr",
     "output_type": "stream",
     "text": [
      "  0%|          | 0/10000 [00:00<?, ?it/s]/home2/aparna/miniconda3/envs/new/lib/python3.8/site-packages/transformers/generation/configuration_utils.py:386: UserWarning: `do_sample` is set to `False`. However, `top_p` is set to `0.95` -- this flag is only used in sample-based generation modes. You should set `do_sample=True` or unset `top_p`.\n",
      "  warnings.warn(\n",
      "/home2/aparna/miniconda3/envs/new/lib/python3.8/site-packages/transformers/generation/configuration_utils.py:396: UserWarning: `do_sample` is set to `False`. However, `top_k` is set to `4` -- this flag is only used in sample-based generation modes. You should set `do_sample=True` or unset `top_k`.\n",
      "  warnings.warn(\n",
      "100%|██████████| 10000/10000 [1:32:38<00:00,  1.80it/s] \n"
     ]
    },
    {
     "name": "stdout",
     "output_type": "stream",
     "text": [
      "10000 10000 10000\n",
      "10000 10000 10000\n",
      "3\n",
      "(0.0011584308218406823, 50.138435269970884)\n"
     ]
    }
   ],
   "source": [
    "model = AutoModelForSeq2SeqLM.from_pretrained(\"t5-small\")\n",
    "import pandas as pd\n",
    "test_data = pd.read_csv(\"../../data/10/test.csv\")\n",
    "test_data = test_data.dropna()\n",
    "test_data = test_data.reset_index(drop=True)\n",
    "#take 1000 samples\n",
    "test_data = test_data[:10000]\n",
    "texts = test_data[\"source\"].tolist()\n",
    "labels = test_data[\"target\"].tolist()\n",
    "\n",
    "\n",
    "metrics =[]\n",
    "inpu = []\n",
    "cands = []\n",
    "lab = []\n",
    "max_l = 512\n",
    "num_b = 10\n",
    "num_sub_b =1\n",
    "\n",
    "for  i  in tqdm(range(len(texts))):\n",
    "    text = texts[i]\n",
    "    # encode the text into tensor of integers using the appropriate tokenizer\n",
    "    inputs = tokenizer.encode(\"paraphrase: \" + text, return_tensors=\"pt\", max_length=512, truncation=True)\n",
    "\n",
    "    # generate text until the output length (which includes the context length) reaches 50\n",
    "    beam_outputs = model.generate(inputs,max_length=max_l,num_beams=num_b,early_stopping=True,\n",
    "        no_repeat_ngram_size=3,\n",
    "        num_return_sequences=1,\n",
    "        top_k=4, top_p=0.95\n",
    "        # return_dict_in_generate=True,\n",
    "    )\n",
    "   # print(\"====================================\")\n",
    "    inpu.extend([text]*1)\n",
    "    c =[]\n",
    "    for x, beam in enumerate(beam_outputs):\n",
    "        #print(\"{}\".format(i, tokenizer.decode(beam, skip_special_tokens=True)))\n",
    "        c.append(tokenizer.decode(beam, skip_special_tokens=True))\n",
    "    cands.extend(c)\n",
    "    lab.extend([[labels[i]]]*1)\n",
    "    eval_arg = [inpu,cands,lab]\n",
    "\n",
    "\n",
    "print(len(inpu),len(cands),len(lab))\n",
    "metric = metrics_func(eval_arg)\n",
    "print(metric)\n"
   ]
  },
  {
   "cell_type": "code",
   "execution_count": null,
   "metadata": {},
   "outputs": [
    {
     "name": "stderr",
     "output_type": "stream",
     "text": [
      "  0%|          | 0/10000 [00:00<?, ?it/s]/home2/aparna/miniconda3/envs/new/lib/python3.8/site-packages/transformers/generation/configuration_utils.py:386: UserWarning: `do_sample` is set to `False`. However, `top_p` is set to `0.95` -- this flag is only used in sample-based generation modes. You should set `do_sample=True` or unset `top_p`.\n",
      "  warnings.warn(\n",
      "/home2/aparna/miniconda3/envs/new/lib/python3.8/site-packages/transformers/generation/configuration_utils.py:396: UserWarning: `do_sample` is set to `False`. However, `top_k` is set to `4` -- this flag is only used in sample-based generation modes. You should set `do_sample=True` or unset `top_k`.\n",
      "  warnings.warn(\n"
     ]
    },
    {
     "name": "stdout",
     "output_type": "stream",
     "text": [
      "However , this option is susceptible to certain chosen-plaintext or known-plaintext attacks , and thus it is designated by NIST to have only 80 bits of security .\n"
     ]
    },
    {
     "name": "stderr",
     "output_type": "stream",
     "text": [
      "  0%|          | 1/10000 [00:01<4:48:32,  1.73s/it]"
     ]
    },
    {
     "name": "stdout",
     "output_type": "stream",
     "text": [
      "====================================\n",
      "0 However, this option is susceptible to certain chosen-plaintext or known, and therefore it is designated by NIST to have only 80 bits of security.\n",
      "They were the founders and the ruling dynasty of the kingdom of Macedon from about 700 to 310 BC .\n"
     ]
    },
    {
     "name": "stderr",
     "output_type": "stream",
     "text": [
      "  0%|          | 2/10000 [00:03<4:43:40,  1.70s/it]"
     ]
    },
    {
     "name": "stdout",
     "output_type": "stream",
     "text": [
      "====================================\n",
      "0 They were the founders and the ruling dynasty of the kingdom of Macedon from about 700 to 310 BC.\n",
      "Wismar ( ] ) is a port and Hanseatic city in Northern Germany on the Baltic Sea , in the state of Mecklenburg-Vorpommern .\n"
     ]
    },
    {
     "name": "stderr",
     "output_type": "stream",
     "text": [
      "  0%|          | 3/10000 [00:05<5:03:03,  1.82s/it]"
     ]
    },
    {
     "name": "stdout",
     "output_type": "stream",
     "text": [
      "====================================\n",
      "0 Wismar ( ] ) is a port and Hanseatic city in Northern Germany on the Baltic Sea.\n",
      "A jumping back kick is a variation that involves the attacker conducting the turning motion while jumping .\n"
     ]
    },
    {
     "name": "stderr",
     "output_type": "stream",
     "text": [
      "  0%|          | 4/10000 [00:06<4:25:41,  1.59s/it]"
     ]
    },
    {
     "name": "stdout",
     "output_type": "stream",
     "text": [
      "====================================\n",
      "0 A jumping back kick is a variation that involves the attacker doing the turning motion while jumping.\n",
      "West Virginia men 's soccer competes in the Mid-American Conference .\n"
     ]
    },
    {
     "name": "stderr",
     "output_type": "stream",
     "text": [
      "  0%|          | 5/10000 [00:08<4:15:32,  1.53s/it]"
     ]
    },
    {
     "name": "stdout",
     "output_type": "stream",
     "text": [
      "====================================\n",
      "0 West Virginia men's soccer competes in the Mid-American Conference.\n",
      "She and Williams wed at his home in Mulholland Estates in Beverly Hills on 7 August 2010 .\n"
     ]
    },
    {
     "name": "stderr",
     "output_type": "stream",
     "text": [
      "  0%|          | 6/10000 [00:09<4:17:34,  1.55s/it]"
     ]
    },
    {
     "name": "stdout",
     "output_type": "stream",
     "text": [
      "====================================\n",
      "0 She and Williams wed at his home in Mulholland Estates in Beverly Hills on 7 August 2010.\n",
      "The county was formed on December 18 , 1840 , and named for Commodore Oliver Hazard Perry , naval hero in the War of 1812 .\n"
     ]
    },
    {
     "name": "stderr",
     "output_type": "stream",
     "text": [
      "  0%|          | 7/10000 [00:12<5:13:30,  1.88s/it]"
     ]
    },
    {
     "name": "stdout",
     "output_type": "stream",
     "text": [
      "====================================\n",
      "0 The county was formed on December 18, 1840, and named for Commodore Oliver Hazard Perry, naval hero in the War of 1812\n",
      "In Baltimore , the roof of the historic B & O Railroad Museum built in 1884 collapsed , damaging many valuable engines , historic railroad cars , and train exhibits .\n"
     ]
    },
    {
     "name": "stderr",
     "output_type": "stream",
     "text": [
      "  0%|          | 8/10000 [00:14<5:52:37,  2.12s/it]"
     ]
    },
    {
     "name": "stdout",
     "output_type": "stream",
     "text": [
      "====================================\n",
      "0 In Baltimore, the roof of the historic B & O Railroad Museum built in 1884 collapsed.\n",
      "Cold Bay is one of the main commercial centers of the Alaska Peninsula , and is home to Cold Bay Airport .\n"
     ]
    },
    {
     "name": "stderr",
     "output_type": "stream",
     "text": [
      "  0%|          | 9/10000 [00:16<5:06:30,  1.84s/it]"
     ]
    },
    {
     "name": "stdout",
     "output_type": "stream",
     "text": [
      "====================================\n",
      "0 False\n",
      "He served in the country 's Chamber of Deputies , representing the state of Rio de Janeiro , between 1991 and 2018 .\n"
     ]
    },
    {
     "name": "stderr",
     "output_type": "stream",
     "text": [
      "  0%|          | 10/10000 [00:17<5:10:43,  1.87s/it]"
     ]
    },
    {
     "name": "stdout",
     "output_type": "stream",
     "text": [
      "====================================\n",
      "0 He served in the country's Chamber of Deputies, representing the state of Rio de Janeiro between 1991 and 2018.\n",
      "Officially , the Saffir – Simpson hurricane wind scale is based on the highest average wind over a \" one-minute \" time span and used \" only \" to describe hurricanes that form in the Atlantic Ocean and northern Pacific Ocean east of the International Date Line .\n"
     ]
    },
    {
     "name": "stderr",
     "output_type": "stream",
     "text": [
      "  0%|          | 11/10000 [00:20<5:48:10,  2.09s/it]"
     ]
    },
    {
     "name": "stdout",
     "output_type": "stream",
     "text": [
      "====================================\n",
      "0 The Saffir – Simpson hurricane wind scale is based on the highest average wind over a \" one-minute \" time span and used \" only \" to describe hurricanes\n",
      "It is a member of Association of American Universities since 1985 and the Boston Consortium which allows students to cross-register to attend courses at other institutions including Boston College , Boston University and Tufts University .\n"
     ]
    },
    {
     "name": "stderr",
     "output_type": "stream",
     "text": [
      "  0%|          | 12/10000 [00:22<5:37:05,  2.02s/it]"
     ]
    },
    {
     "name": "stdout",
     "output_type": "stream",
     "text": [
      "====================================\n",
      "0 The Boston Consortium allows students to cross-register to attend courses at other institutions including Boston College, Boston University and Tufts University.\n",
      "It was adopted by the people at an election held October 4 , 1859 .\n"
     ]
    },
    {
     "name": "stderr",
     "output_type": "stream",
     "text": [
      "  0%|          | 13/10000 [00:23<4:43:42,  1.70s/it]"
     ]
    },
    {
     "name": "stdout",
     "output_type": "stream",
     "text": [
      "====================================\n",
      "0 It was adopted by the people at an election held October 4, 1859.\n",
      "Eldridge began to build another replacement hotel , which was finished in 1866 under George W. Deitzler .\n"
     ]
    },
    {
     "name": "stderr",
     "output_type": "stream",
     "text": [
      "  0%|          | 14/10000 [00:25<4:42:55,  1.70s/it]"
     ]
    },
    {
     "name": "stdout",
     "output_type": "stream",
     "text": [
      "====================================\n",
      "0 Eldridge began to build another replacement hotel, which was finished in 1866 under George W. Deitzler.\n",
      "He was elected the 27th of Novembre 2017 .\n"
     ]
    },
    {
     "name": "stderr",
     "output_type": "stream",
     "text": [
      "  0%|          | 15/10000 [00:26<4:05:29,  1.48s/it]"
     ]
    },
    {
     "name": "stdout",
     "output_type": "stream",
     "text": [
      "====================================\n",
      "0 He was elected the 27th of Novembre 2017.\n",
      "Shipp was born on January 21 , 1926 in East York , Ontario to Gordon S. Shipp and Bessie Luella Breeze .\n"
     ]
    },
    {
     "name": "stderr",
     "output_type": "stream",
     "text": [
      "  0%|          | 16/10000 [00:27<4:20:17,  1.56s/it]"
     ]
    },
    {
     "name": "stdout",
     "output_type": "stream",
     "text": [
      "====================================\n",
      "0 Shipp was born in East York, Ontario.\n",
      "Since July 1966 , the Abbey has been located at 26 Lower Abbey Street , Dublin 1 .\n"
     ]
    },
    {
     "name": "stderr",
     "output_type": "stream",
     "text": [
      "  0%|          | 17/10000 [00:28<3:58:57,  1.44s/it]"
     ]
    },
    {
     "name": "stdout",
     "output_type": "stream",
     "text": [
      "====================================\n",
      "0 False\n",
      "Ewing Hunter Harrison ( November 7 , 1944 – December 16 , 2017 ) was a railway executive who served as the CEO of Illinois Central Railroad ( IC ) , Canadian National Railway ( CN ) , Canadian Pacific Railway ( CPR ) , and CSX Corporation .\n"
     ]
    },
    {
     "name": "stderr",
     "output_type": "stream",
     "text": [
      "  0%|          | 18/10000 [00:32<5:24:28,  1.95s/it]"
     ]
    },
    {
     "name": "stdout",
     "output_type": "stream",
     "text": [
      "====================================\n",
      "0 Ewing Hunter Harrison ( November 7, 1944 – December 16, 2017 ) was a railway executive.\n",
      "Xavier Tilliette ( 23 July 1921 , Corbie , Somme – 10 December 2018 , Paris ) was a French philosopher , historian of philosophy , and theologian .\n"
     ]
    },
    {
     "name": "stderr",
     "output_type": "stream",
     "text": [
      "  0%|          | 19/10000 [00:35<6:38:10,  2.39s/it]"
     ]
    },
    {
     "name": "stdout",
     "output_type": "stream",
     "text": [
      "====================================\n",
      "0 Xavier Tilliette ( 23 July 1921, Corbie, Somme – 10 December 2018, Paris ) was a French philosopher, historian of philosophy and theologian.\n",
      "Henry Addington , 1st Viscount Sidmouth , ( 30 May 1757 – 15 February 1844 ) was a British statesman who served as Prime Minister from 1801 to 1804 .\n"
     ]
    },
    {
     "name": "stderr",
     "output_type": "stream",
     "text": [
      "  0%|          | 20/10000 [00:37<6:01:02,  2.17s/it]"
     ]
    },
    {
     "name": "stdout",
     "output_type": "stream",
     "text": [
      "====================================\n",
      "0 Henry Addington, 1st Viscount Sidmouth, ( 30 May 1757 – 15 February 1844 ) was a British politician.\n",
      "Dry beriberi affects the nervous system resulting in numbness of the hands and feet , confusion , trouble moving the legs , and pain .\n"
     ]
    },
    {
     "name": "stderr",
     "output_type": "stream",
     "text": [
      "  0%|          | 21/10000 [00:39<6:03:42,  2.19s/it]"
     ]
    },
    {
     "name": "stdout",
     "output_type": "stream",
     "text": [
      "====================================\n",
      "0 Dry beriberi affects the nervous system resulting in numbness of the hands and feet, confusion, trouble moving the legs, and pain.\n",
      "The city was named by the Canadian Pacific Railway in appreciation of Lord Revelstoke , head of Baring Brothers & Co . , the UK investment bank that , in partnership with Glyn , Mills & Co . , saved the Canadian Pacific Railway from bankruptcy in the summer of 1885 by buying the company 's unsold bonds , enabling the railway to reach completion .\n"
     ]
    },
    {
     "name": "stderr",
     "output_type": "stream",
     "text": [
      "  0%|          | 22/10000 [00:41<5:55:50,  2.14s/it]"
     ]
    },
    {
     "name": "stdout",
     "output_type": "stream",
     "text": [
      "====================================\n",
      "0 The city was named by the Canadian Pacific Railway in appreciation of Lord Revelstoke, head of Baring Brothers & Co.\n",
      "It was a stegosaur found in China .\n"
     ]
    },
    {
     "name": "stderr",
     "output_type": "stream",
     "text": [
      "  0%|          | 23/10000 [00:42<4:53:15,  1.76s/it]"
     ]
    },
    {
     "name": "stdout",
     "output_type": "stream",
     "text": [
      "====================================\n",
      "0 It was a stegosaur found in China.\n",
      "Some units of Brain Shift glitch on low batteries depending on what electronics are operating the unit .\n"
     ]
    },
    {
     "name": "stderr",
     "output_type": "stream",
     "text": [
      "  0%|          | 24/10000 [00:43<4:31:53,  1.64s/it]"
     ]
    },
    {
     "name": "stdout",
     "output_type": "stream",
     "text": [
      "====================================\n",
      "0 Some units of Brain Shift glitch on low batteries depending on what electronics are operating the unit.\n",
      "Brian Manion Dennehy ( born July 9 , 1938 ) is an American actor of film , stage , and television .\n"
     ]
    },
    {
     "name": "stderr",
     "output_type": "stream",
     "text": [
      "  0%|          | 25/10000 [00:45<4:37:45,  1.67s/it]"
     ]
    },
    {
     "name": "stdout",
     "output_type": "stream",
     "text": [
      "====================================\n",
      "0 Brian Manion Dennehy ( born July 9, 1938 ) is an American actor.\n",
      "His second marriage , Leigh-Anne Csuhany in September 1992 , lasted one year .\n"
     ]
    },
    {
     "name": "stderr",
     "output_type": "stream",
     "text": [
      "  0%|          | 26/10000 [00:47<5:15:45,  1.90s/it]"
     ]
    },
    {
     "name": "stdout",
     "output_type": "stream",
     "text": [
      "====================================\n",
      "0 He was married to Leigh-Anne Csuhany in 1992.\n",
      "Khanewal , is a subdivision ( tehsil ) of Khanewal District in the Punjab province of Pakistan .\n"
     ]
    },
    {
     "name": "stderr",
     "output_type": "stream",
     "text": [
      "  0%|          | 27/10000 [00:50<5:28:55,  1.98s/it]"
     ]
    },
    {
     "name": "stdout",
     "output_type": "stream",
     "text": [
      "====================================\n",
      "0 Khanewal, is a subdivision ( tehsil ) in the Punjab province of Pakistan.\n",
      "Edward Maurice Charles Marsan ( born 9 June 1968 ) is an English actor .\n"
     ]
    },
    {
     "name": "stderr",
     "output_type": "stream",
     "text": [
      "  0%|          | 28/10000 [00:51<5:10:36,  1.87s/it]"
     ]
    },
    {
     "name": "stdout",
     "output_type": "stream",
     "text": [
      "====================================\n",
      "0 Edward Maurice Charles Marsan ( born 9 June 1968 ) is an English actor.\n",
      "Alquines is a commune in the Pas-de-Calais department in northern France .\n"
     ]
    },
    {
     "name": "stderr",
     "output_type": "stream",
     "text": [
      "  0%|          | 29/10000 [00:52<4:34:13,  1.65s/it]"
     ]
    },
    {
     "name": "stdout",
     "output_type": "stream",
     "text": [
      "====================================\n",
      "0 Alquines is a commune.\n",
      "The Soviet forces raced west and met on 23 November at the town of Kalach , sealing the ring around Stalingrad .\n"
     ]
    },
    {
     "name": "stderr",
     "output_type": "stream",
     "text": [
      "  0%|          | 30/10000 [00:55<5:37:07,  2.03s/it]"
     ]
    },
    {
     "name": "stdout",
     "output_type": "stream",
     "text": [
      "====================================\n",
      "0 The Soviet forces raced west and met on 23 November at the town of Kalach, sealing the ring around Stalingrad.\n",
      "Floods can also occur in rivers when the flow rate exceeds the capacity of the river channel , particularly at bends or meanders in the waterway .\n"
     ]
    },
    {
     "name": "stderr",
     "output_type": "stream",
     "text": [
      "  0%|          | 31/10000 [00:58<5:59:33,  2.16s/it]"
     ]
    },
    {
     "name": "stdout",
     "output_type": "stream",
     "text": [
      "====================================\n",
      "0 Floods can also occur in rivers when the flow rate exceeds the capacity of the river channel, particularly at bends or meanders in the waterway.\n",
      "Methods of romanization include transliteration , for representing written text , and transcription , for representing the spoken word , and combinations of both .\n"
     ]
    },
    {
     "name": "stderr",
     "output_type": "stream",
     "text": [
      "  0%|          | 32/10000 [01:00<5:48:35,  2.10s/it]"
     ]
    },
    {
     "name": "stdout",
     "output_type": "stream",
     "text": [
      "====================================\n",
      "0 Paraphrase: Methods of romanization include transliteration, for representing written text, and transcription,\n",
      "Pressman died at Mount Sinai Hospital Manhattan on June 23 , 2017 , aged 93 .\n"
     ]
    },
    {
     "name": "stderr",
     "output_type": "stream",
     "text": [
      "  0%|          | 33/10000 [01:01<5:20:54,  1.93s/it]"
     ]
    },
    {
     "name": "stdout",
     "output_type": "stream",
     "text": [
      "====================================\n",
      "0 Pressman died at Mount Sinai Hospital Manhattan on June 23, 2017, aged 93.\n",
      "Many of the Aegean Islands , or chains of islands , are actually extensions of the mountains on the mainland .\n"
     ]
    },
    {
     "name": "stderr",
     "output_type": "stream",
     "text": [
      "  0%|          | 34/10000 [01:03<5:28:29,  1.98s/it]"
     ]
    },
    {
     "name": "stdout",
     "output_type": "stream",
     "text": [
      "====================================\n",
      "0 Many of the Aegean Islands, or chains of islands, are actually extensions of the mountains on the mainland.\n",
      "Leighton died of multiple sclerosis in 1976 , aged 53 , in Chichester , Sussex .\n"
     ]
    },
    {
     "name": "stderr",
     "output_type": "stream",
     "text": [
      "  0%|          | 35/10000 [01:05<5:01:11,  1.81s/it]"
     ]
    },
    {
     "name": "stdout",
     "output_type": "stream",
     "text": [
      "====================================\n",
      "0 He died of multiple sclerosis in Chichester, Sussex, aged 53.\n",
      "Yerevan features a continental influenced steppe climate ( Ko ̈ ppen climate classification : \" BSk \" or \" cold semi-arid climate \" ) , with long , hot , dry summers and short , but cold and snowy winters .\n"
     ]
    },
    {
     "name": "stderr",
     "output_type": "stream",
     "text": [
      "  0%|          | 36/10000 [01:08<6:08:42,  2.22s/it]"
     ]
    },
    {
     "name": "stdout",
     "output_type": "stream",
     "text": [
      "====================================\n",
      "0 Yerevan features a continental influenced steppe climate, with long, hot, dry summers and short, but cold and snowy winters.\n",
      "The capital is Aregua ́ .\n"
     ]
    },
    {
     "name": "stderr",
     "output_type": "stream",
     "text": [
      "  0%|          | 37/10000 [01:09<5:15:10,  1.90s/it]"
     ]
    },
    {
     "name": "stdout",
     "output_type": "stream",
     "text": [
      "====================================\n",
      "0 The capital is Aregua .\n",
      "His works were some of the finest organ pieces to come from France in over a century , and laid the groundwork for the French symphonic organ style .\n"
     ]
    },
    {
     "name": "stderr",
     "output_type": "stream",
     "text": [
      "  0%|          | 38/10000 [01:11<5:40:02,  2.05s/it]"
     ]
    },
    {
     "name": "stdout",
     "output_type": "stream",
     "text": [
      "====================================\n",
      "0 His works were some of the finest organ pieces to come from France in over a century, and laid the groundwork for the French symphonic organ style.\n",
      "At the 74th Golden Globe Awards , \" La La Land \" received a leading seven nominations .\n"
     ]
    },
    {
     "name": "stderr",
     "output_type": "stream",
     "text": [
      "  0%|          | 39/10000 [01:13<4:58:53,  1.80s/it]"
     ]
    },
    {
     "name": "stdout",
     "output_type": "stream",
     "text": [
      "====================================\n",
      "0 At the 74th Golden Globe Awards, \" La La Land \" received a leading seven nominations.\n",
      "The initial application of thermodynamics to mechanical heat engines was extended early on to the study of chemical compounds and chemical reactions .\n"
     ]
    },
    {
     "name": "stderr",
     "output_type": "stream",
     "text": [
      "  0%|          | 40/10000 [01:14<4:38:51,  1.68s/it]"
     ]
    },
    {
     "name": "stdout",
     "output_type": "stream",
     "text": [
      "====================================\n",
      "0 The initial application of thermodynamics to mechanical heat engines was extended early on to the study of chemical compounds and chemical reactions.\n",
      "At the 2000 Summer Olympics in Sydney she won an extremely surprising gold medal ahead of Romanians Violeta Szekely ( silver ) and Gabriela Szabo ( bronze ) .\n"
     ]
    },
    {
     "name": "stderr",
     "output_type": "stream",
     "text": [
      "  0%|          | 41/10000 [01:16<4:56:21,  1.79s/it]"
     ]
    },
    {
     "name": "stdout",
     "output_type": "stream",
     "text": [
      "====================================\n",
      "0 She won an extremely surprising gold medal ahead of Romanians Violeta Szekely ( silver ) and Gabriela Szabo ( bronze ).\n",
      "Roger Williams was banished from the Massachusetts colony and was taken in by Massasoit for several weeks .\n"
     ]
    },
    {
     "name": "stderr",
     "output_type": "stream",
     "text": [
      "  0%|          | 42/10000 [01:18<4:55:33,  1.78s/it]"
     ]
    },
    {
     "name": "stdout",
     "output_type": "stream",
     "text": [
      "====================================\n",
      "0 Roger Williams was banned from the Massachusetts colony and taken in by Massasoit for several weeks.\n",
      "On rare occasions , a third ingredient is introduced .\n"
     ]
    },
    {
     "name": "stderr",
     "output_type": "stream",
     "text": [
      "  0%|          | 43/10000 [01:19<4:14:35,  1.53s/it]"
     ]
    },
    {
     "name": "stdout",
     "output_type": "stream",
     "text": [
      "====================================\n",
      "0 Paraphrase: On rare occasions, a third ingredient is introduced.\n",
      "Just days after Tropical Depression Twenty-E degenerated into an open trough , Tropical Depression Twenty One-E developed from a tropical wave on November 13 about 460 miles ( 740 km ) south of Manzanillo , Colima .\n"
     ]
    },
    {
     "name": "stderr",
     "output_type": "stream",
     "text": [
      "  0%|          | 44/10000 [01:20<4:19:03,  1.56s/it]"
     ]
    },
    {
     "name": "stdout",
     "output_type": "stream",
     "text": [
      "====================================\n",
      "0 False\n",
      "The islands were collectively named after the largest island in the group , Ponza .\n"
     ]
    },
    {
     "name": "stderr",
     "output_type": "stream",
     "text": [
      "  0%|          | 45/10000 [01:22<4:18:32,  1.56s/it]"
     ]
    },
    {
     "name": "stdout",
     "output_type": "stream",
     "text": [
      "====================================\n",
      "0 The islands were named after the largest island in the group, Ponza.\n",
      "It is derived from Linspire and is composed mostly of free , open source software , while providing users the choice of including proprietary software including multimedia codecs , device drivers and application software .\n"
     ]
    },
    {
     "name": "stderr",
     "output_type": "stream",
     "text": [
      "  0%|          | 46/10000 [01:23<4:11:10,  1.51s/it]"
     ]
    },
    {
     "name": "stdout",
     "output_type": "stream",
     "text": [
      "====================================\n",
      "0 It is derived from Linspire and is composed mostly of free, open source software.\n",
      "\" Zoo Tycoon 2 : Extinct Animals \" was released on October 17 , 2007 .\n"
     ]
    },
    {
     "name": "stderr",
     "output_type": "stream",
     "text": [
      "  0%|          | 47/10000 [01:24<3:40:34,  1.33s/it]"
     ]
    },
    {
     "name": "stdout",
     "output_type": "stream",
     "text": [
      "====================================\n",
      "0 \" Zoo Tycoon 2 : Extinct Animals \" was released on October 17, 2007.\n",
      "From 1939 to 1944 , he was in charge of the Natural History Museum at Tring as the Curator of Zoology .\n"
     ]
    },
    {
     "name": "stderr",
     "output_type": "stream",
     "text": [
      "  0%|          | 48/10000 [01:25<3:09:48,  1.14s/it]"
     ]
    },
    {
     "name": "stdout",
     "output_type": "stream",
     "text": [
      "====================================\n",
      "0 He was in charge of the Natural History Museum at Tring as the Curator of Zoology.\n",
      "An example of this would be hiding the child 's favorite toy under a blanket , although the child can not physically see it they still know to look under the blanket .\n"
     ]
    },
    {
     "name": "stderr",
     "output_type": "stream",
     "text": [
      "  0%|          | 49/10000 [01:26<2:59:49,  1.08s/it]"
     ]
    },
    {
     "name": "stdout",
     "output_type": "stream",
     "text": [
      "====================================\n",
      "0 A paraphrase would be hiding the child's favorite toy under a blanket, although the child can not physically see it they still know to look under the blanket.\n",
      "Code Red and Code Red II were famous ( and much discussed ) worms that exploited vulnerabilities of the Windows Indexing Service of Windows 2000 's Internet Information Services ( IIS ) .\n"
     ]
    },
    {
     "name": "stderr",
     "output_type": "stream",
     "text": [
      "  0%|          | 50/10000 [01:27<2:44:56,  1.01it/s]"
     ]
    },
    {
     "name": "stdout",
     "output_type": "stream",
     "text": [
      "====================================\n",
      "0 True\n",
      "One source calls her daughter of Prometheus .\n"
     ]
    },
    {
     "name": "stderr",
     "output_type": "stream",
     "text": [
      "  1%|          | 51/10000 [01:27<2:17:37,  1.20it/s]"
     ]
    },
    {
     "name": "stdout",
     "output_type": "stream",
     "text": [
      "====================================\n",
      "0 True\n",
      "Geographically , the city is mostly hilly to the east and flat in the west , with 115.98 km of shoreline .\n"
     ]
    },
    {
     "name": "stderr",
     "output_type": "stream",
     "text": [
      "  1%|          | 52/10000 [01:28<2:10:28,  1.27it/s]"
     ]
    },
    {
     "name": "stdout",
     "output_type": "stream",
     "text": [
      "====================================\n",
      "0 It is mostly hilly to the east and flat in the west, with 115,98 km of shoreline.\n",
      "Ullared is a locality situated in Falkenberg Municipality , Halland County , Sweden , with 791 inhabitants in 2010 .\n"
     ]
    },
    {
     "name": "stderr",
     "output_type": "stream",
     "text": [
      "  1%|          | 53/10000 [01:29<2:10:00,  1.28it/s]"
     ]
    },
    {
     "name": "stdout",
     "output_type": "stream",
     "text": [
      "====================================\n",
      "0 Ullared is a locality in Falkenberg Municipality in Halland County in Sweden, with 791 inhabitants in 2010.\n",
      "The gold and silver she and her sister Chloe Dufour-Lapointe won in 2014 was the first time that Canadian sisters stood together on the podium , and the fourth time ever by all nations .\n"
     ]
    },
    {
     "name": "stderr",
     "output_type": "stream",
     "text": [
      "  1%|          | 54/10000 [01:30<2:49:16,  1.02s/it]"
     ]
    },
    {
     "name": "stdout",
     "output_type": "stream",
     "text": [
      "====================================\n",
      "0 The gold and silver she and her sister Chloe Dufour-Lapointe won in 2014 was the first time that Canadian sisters stood together on the podium.\n",
      "In January 1986 , he became the second sitting member of Congress to fly in space when he served as a payload specialist on the Space Shuttle \" Columbia \" .\n"
     ]
    },
    {
     "name": "stderr",
     "output_type": "stream",
     "text": [
      "  1%|          | 55/10000 [01:32<3:49:48,  1.39s/it]"
     ]
    },
    {
     "name": "stdout",
     "output_type": "stream",
     "text": [
      "====================================\n",
      "0 He became the second sitting member of Congress to fly in space when he served as a payload specialist on the Space Shuttle \" Columbia \".\n",
      "Margaret Madeline Chase Smith ( December 14 , 1897 – May 29 , 1995 ) was a United States politician .\n"
     ]
    },
    {
     "name": "stderr",
     "output_type": "stream",
     "text": [
      "  1%|          | 56/10000 [01:34<4:17:57,  1.56s/it]"
     ]
    },
    {
     "name": "stdout",
     "output_type": "stream",
     "text": [
      "====================================\n",
      "0 Margaret Madeline Chase Smith ( December 14, 1897 – May 29, 1995 ) was a United States politician.\n",
      "President Trump nominated Kavanaugh to the U.S. Supreme Court on July 9 , 2018 , to fill the position vacated by retiring Associate Justice Anthony Kennedy .\n"
     ]
    },
    {
     "name": "stderr",
     "output_type": "stream",
     "text": [
      "  1%|          | 57/10000 [01:36<4:43:31,  1.71s/it]"
     ]
    },
    {
     "name": "stdout",
     "output_type": "stream",
     "text": [
      "====================================\n",
      "0 Trump nominated Kavanaugh to the U.S. Supreme Court on July 9, 2018, to fill the position vacated by retiring Associate Justice Anthony Kennedy.\n",
      "Both colonial and solitary species also reproduce by cloning — solitary species grow clones in the space between the tentacles and then release them when developed , while colonial ones produce new members from the stalks or from corridor-like stolons .\n"
     ]
    },
    {
     "name": "stderr",
     "output_type": "stream",
     "text": [
      "  1%|          | 58/10000 [01:41<6:51:46,  2.49s/it]"
     ]
    },
    {
     "name": "stdout",
     "output_type": "stream",
     "text": [
      "====================================\n",
      "0 Both colonial and solitary species also reproduce by cloning.\n",
      "Other species of yeasts , such as \" Candida albicans \" , are opportunistic pathogens and can cause infections in humans .\n"
     ]
    },
    {
     "name": "stderr",
     "output_type": "stream",
     "text": [
      "  1%|          | 59/10000 [01:43<6:56:03,  2.51s/it]"
     ]
    },
    {
     "name": "stdout",
     "output_type": "stream",
     "text": [
      "====================================\n",
      "0 Other species of yeasts are opportunistic pathogens and can cause infections in humans.\n",
      "Rich died on March 27 , 2012 , at the age of 82 in her Santa Cruz , California home .\n"
     ]
    },
    {
     "name": "stderr",
     "output_type": "stream",
     "text": [
      "  1%|          | 60/10000 [01:45<6:03:02,  2.19s/it]"
     ]
    },
    {
     "name": "stdout",
     "output_type": "stream",
     "text": [
      "====================================\n",
      "0 Rich died on March 27, 2012 at the age of 82 in her Santa Cruz, California home.\n",
      "In July 2010 , the stadium hosted a friendly football match between Football League Championship team Birmingham City and Beijing Guoan as a part of Birmingham 's pre-season trip to China , homeland of the club 's owner Carson Yeung .\n"
     ]
    },
    {
     "name": "stderr",
     "output_type": "stream",
     "text": [
      "  1%|          | 61/10000 [01:47<6:04:33,  2.20s/it]"
     ]
    },
    {
     "name": "stdout",
     "output_type": "stream",
     "text": [
      "====================================\n",
      "0 In July 2010, the stadium hosted a friendly football match between Football League Championship team Birmingham City and Beijing Guoan as part of Birmingham's pre-season trip to China.\n",
      "A typical application for this kind of beamline is crystallography , although many other utilising synchrotron light exist .\n"
     ]
    },
    {
     "name": "stderr",
     "output_type": "stream",
     "text": [
      "  1%|          | 62/10000 [01:48<5:06:43,  1.85s/it]"
     ]
    },
    {
     "name": "stdout",
     "output_type": "stream",
     "text": [
      "====================================\n",
      "0 A typical application for this type of beamline is crystallography, although many other useing synchrotron light exist\n",
      "He played in the National Hockey League with the Buffalo Sabres , Calgary Flames , and Hartford Whalers between 1977 and 1989 .\n"
     ]
    },
    {
     "name": "stderr",
     "output_type": "stream",
     "text": [
      "  1%|          | 63/10000 [01:50<4:53:16,  1.77s/it]"
     ]
    },
    {
     "name": "stdout",
     "output_type": "stream",
     "text": [
      "====================================\n",
      "0 He played in the National Hockey League with the Buffalo Sabres, Calgary Flames and Hartford Whalers between 1977 and 1989.\n",
      "The cosmic microwave background ( CMB , CMBR ) , in Big Bang cosmology , is electromagnetic radiation as a remnant from an early stage of the universe , also known as \" relic radiation \" .\n"
     ]
    },
    {
     "name": "stderr",
     "output_type": "stream",
     "text": [
      "  1%|          | 64/10000 [01:51<4:42:10,  1.70s/it]"
     ]
    },
    {
     "name": "stdout",
     "output_type": "stream",
     "text": [
      "====================================\n",
      "0 The cosmic microwave background ( CMB, CMBR ), in Big Bang cosmology, is electromagnetic radiation.\n",
      "The Mariner and Viking space probes confirmed that the Martian environment is extremely hostile to life .\n"
     ]
    },
    {
     "name": "stderr",
     "output_type": "stream",
     "text": [
      "  1%|          | 65/10000 [01:52<3:53:23,  1.41s/it]"
     ]
    },
    {
     "name": "stdout",
     "output_type": "stream",
     "text": [
      "====================================\n",
      "0 False\n",
      "John Maxwell Coetzee ( born 9 February 1940 ) is a South African-born novelist , essayist , linguist , translator and recipient of the 2003 Nobel Prize in Literature .\n"
     ]
    },
    {
     "name": "stderr",
     "output_type": "stream",
     "text": [
      "  1%|          | 66/10000 [01:54<4:36:04,  1.67s/it]"
     ]
    },
    {
     "name": "stdout",
     "output_type": "stream",
     "text": [
      "====================================\n",
      "0 John Maxwell Coetzee ( born 9 February 1940 ) is a South African-born novelist and essayist.\n",
      "Iqbal was born on 23 December 1952 in Sylhet of the then East Pakistan .\n"
     ]
    },
    {
     "name": "stderr",
     "output_type": "stream",
     "text": [
      "  1%|          | 67/10000 [01:55<4:08:28,  1.50s/it]"
     ]
    },
    {
     "name": "stdout",
     "output_type": "stream",
     "text": [
      "====================================\n",
      "0 False\n",
      "In 1247 or soon after , he left his position in Paris .\n"
     ]
    },
    {
     "name": "stderr",
     "output_type": "stream",
     "text": [
      "  1%|          | 68/10000 [01:57<3:58:04,  1.44s/it]"
     ]
    },
    {
     "name": "stdout",
     "output_type": "stream",
     "text": [
      "====================================\n",
      "0 In 1247 or soon after, he left his position in Paris.\n",
      "In 1522 , Blount entered an arranged marriage with Gilbert Tailboys , 1st Baron Tailboys of Kyme ( sometimes spelled \" Talboys \" ) , whose family was said by some to have a history of insanity .\n"
     ]
    },
    {
     "name": "stderr",
     "output_type": "stream",
     "text": [
      "  1%|          | 69/10000 [02:00<5:16:19,  1.91s/it]"
     ]
    },
    {
     "name": "stdout",
     "output_type": "stream",
     "text": [
      "====================================\n",
      "0 In 1522, Blount entered an arranged marriage with Gilbert Tailboys.\n",
      "John Sassamon was an Indian convert to Christianity , commonly referred to as a \" praying Indian . \"\n"
     ]
    },
    {
     "name": "stderr",
     "output_type": "stream",
     "text": [
      "  1%|          | 70/10000 [02:01<5:14:32,  1.90s/it]"
     ]
    },
    {
     "name": "stdout",
     "output_type": "stream",
     "text": [
      "====================================\n",
      "0 John Sassamon was an Indian convert to Christianity.\n",
      "In English the term harem can mean also \" the wives ( or concubines ) of a polygamous man . \"\n"
     ]
    },
    {
     "name": "stderr",
     "output_type": "stream",
     "text": [
      "  1%|          | 71/10000 [02:04<5:29:38,  1.99s/it]"
     ]
    },
    {
     "name": "stdout",
     "output_type": "stream",
     "text": [
      "====================================\n",
      "0 In English the term harem can mean also \" the wives ( or concubines ) of a polygamous man.\n",
      "The Colts compete in the National Football League ( NFL ) as a member club of the league 's American Football Conference ( AFC ) South division .\n"
     ]
    },
    {
     "name": "stderr",
     "output_type": "stream",
     "text": [
      "  1%|          | 72/10000 [02:06<6:05:06,  2.21s/it]"
     ]
    },
    {
     "name": "stdout",
     "output_type": "stream",
     "text": [
      "====================================\n",
      "0 They compete in the National Football League ( NFL ) as a member club of the league's American Football Conference ( AFC ) South division.\n",
      "In an interview released on August 15 , 2013 , he publicly came out as gay .\n"
     ]
    },
    {
     "name": "stderr",
     "output_type": "stream",
     "text": [
      "  1%|          | 73/10000 [02:08<5:47:41,  2.10s/it]"
     ]
    },
    {
     "name": "stdout",
     "output_type": "stream",
     "text": [
      "====================================\n",
      "0 False\n",
      "On the small uninhabited island of Ma ̈ rket in the Baltic , Uppland has a very short and unusually shaped land border with A ̊ land , an autonomous province of Finland .\n"
     ]
    },
    {
     "name": "stderr",
     "output_type": "stream",
     "text": [
      "  1%|          | 74/10000 [02:09<4:59:16,  1.81s/it]"
     ]
    },
    {
     "name": "stdout",
     "output_type": "stream",
     "text": [
      "====================================\n",
      "0 Uppland has a very short and unusually shaped land border with A  land, an autonomous province of Finland.\n",
      "Backpacking is the outdoor recreation of carrying gear on one 's back , while hiking for more than a day .\n"
     ]
    },
    {
     "name": "stderr",
     "output_type": "stream",
     "text": [
      "  1%|          | 75/10000 [02:11<4:54:27,  1.78s/it]"
     ]
    },
    {
     "name": "stdout",
     "output_type": "stream",
     "text": [
      "====================================\n",
      "0 Backpacking is the outdoor recreation of carrying gear on one's back while hiking for more than a day.\n",
      "He lived and worked in Vienna , London and Zagreb , and had close and intimate ties with those places as depicted in his artwork , however he spent most of his time in Rijeka , Croatia .\n"
     ]
    },
    {
     "name": "stderr",
     "output_type": "stream",
     "text": [
      "  1%|          | 76/10000 [02:13<5:24:33,  1.96s/it]"
     ]
    },
    {
     "name": "stdout",
     "output_type": "stream",
     "text": [
      "====================================\n",
      "0 He lived and worked in Vienna, London and Zagreb, and had close and intimate ties with those places as depicted in his artwork.\n",
      "Vasili Yakovlevich Zinger ( February 11 , 1836 – March 2 , 1907 ) was a prominent Russian mathematician , botanist and philosopher .\n"
     ]
    },
    {
     "name": "stderr",
     "output_type": "stream",
     "text": [
      "  1%|          | 77/10000 [02:16<5:53:18,  2.14s/it]"
     ]
    },
    {
     "name": "stdout",
     "output_type": "stream",
     "text": [
      "====================================\n",
      "0 Vasili Yakovlevich Zinger ( February 11, 1836 – March 2, 1907 ) was a Russian mathematician, botanist and philosopher.\n",
      "Le ́ koumou is a department of the Republic of the Congo in the southern part of the country .\n"
     ]
    },
    {
     "name": "stderr",
     "output_type": "stream",
     "text": [
      "  1%|          | 78/10000 [02:18<5:55:22,  2.15s/it]"
     ]
    },
    {
     "name": "stdout",
     "output_type": "stream",
     "text": [
      "====================================\n",
      "0 Le  koumou is a department of the Republic of the Congo in the southern part of the country.\n",
      "Such lineages are also typically found in other South Slavs , especially Bulgarians , Serbs , Bosniaks , Montenegrins , but also to the Greeks and Romanians , but also found in all European populations .\n"
     ]
    },
    {
     "name": "stderr",
     "output_type": "stream",
     "text": [
      "  1%|          | 79/10000 [02:19<5:08:30,  1.87s/it]"
     ]
    },
    {
     "name": "stdout",
     "output_type": "stream",
     "text": [
      "====================================\n",
      "0 Paraphrase\n",
      "The screenplay was adapted by James Dickey from his 1970 novel of the same name .\n"
     ]
    },
    {
     "name": "stderr",
     "output_type": "stream",
     "text": [
      "  1%|          | 80/10000 [02:20<4:27:36,  1.62s/it]"
     ]
    },
    {
     "name": "stdout",
     "output_type": "stream",
     "text": [
      "====================================\n",
      "0 James Dickey adapted the screenplay from his 1970 novel of the same name.\n",
      "Haitink became sole chief conductor in 1963 , and served in this post until 1988 .\n"
     ]
    },
    {
     "name": "stderr",
     "output_type": "stream",
     "text": [
      "  1%|          | 81/10000 [02:22<4:21:32,  1.58s/it]"
     ]
    },
    {
     "name": "stdout",
     "output_type": "stream",
     "text": [
      "====================================\n",
      "0 Haitink became sole chief conductor in 1963, and served in this post until 1988.\n",
      "Burish was drafted in the 9th round of the 2002 NHL Entry Draft , 282nd overall by the Chicago Blackhawks .\n"
     ]
    },
    {
     "name": "stderr",
     "output_type": "stream",
     "text": [
      "  1%|          | 82/10000 [02:24<4:47:19,  1.74s/it]"
     ]
    },
    {
     "name": "stdout",
     "output_type": "stream",
     "text": [
      "====================================\n",
      "0 Burish was drafted in the 9th round of the 2002 NHL Entry Draft.\n",
      "Giannatos was married to Chaido whom he was with until the day he died .\n"
     ]
    },
    {
     "name": "stderr",
     "output_type": "stream",
     "text": [
      "  1%|          | 83/10000 [02:26<4:42:16,  1.71s/it]"
     ]
    },
    {
     "name": "stdout",
     "output_type": "stream",
     "text": [
      "====================================\n",
      "0 He was married to Chaido whom he was with until the day he died.\n",
      "In 1999 he was named Dutch \" Journalist of the century \" in a nationwide poll among his peers .\n"
     ]
    },
    {
     "name": "stderr",
     "output_type": "stream",
     "text": [
      "  1%|          | 84/10000 [02:27<4:33:56,  1.66s/it]"
     ]
    },
    {
     "name": "stdout",
     "output_type": "stream",
     "text": [
      "====================================\n",
      "0 In 1999 he was named Dutch Journalist of the century in a nationwide poll among his peers.\n",
      "Droiturier is a commune in the Allier department in central France .\n"
     ]
    },
    {
     "name": "stderr",
     "output_type": "stream",
     "text": [
      "  1%|          | 85/10000 [02:28<4:14:58,  1.54s/it]"
     ]
    },
    {
     "name": "stdout",
     "output_type": "stream",
     "text": [
      "====================================\n",
      "0 Droiturier is a commune.\n",
      "For each clue , Watson 's three most probable responses were displayed on the television screen .\n"
     ]
    },
    {
     "name": "stderr",
     "output_type": "stream",
     "text": [
      "  1%|          | 86/10000 [02:30<4:34:34,  1.66s/it]"
     ]
    },
    {
     "name": "stdout",
     "output_type": "stream",
     "text": [
      "====================================\n",
      "0 Watson's three most probable responses were displayed on the television screen.\n",
      "It was the last Metallica album released through Elektra Records and the final collaboration between Metallica and producer Bob Rock , who had worked with Metallica since 1991 .\n"
     ]
    },
    {
     "name": "stderr",
     "output_type": "stream",
     "text": [
      "  1%|          | 87/10000 [02:34<5:47:21,  2.10s/it]"
     ]
    },
    {
     "name": "stdout",
     "output_type": "stream",
     "text": [
      "====================================\n",
      "0 It was the last Metallica album released through Elektra Records and the final collaboration between Metallica and producer Bob Rock.\n",
      "Constantius was assigned Gaul and Britain .\n"
     ]
    },
    {
     "name": "stderr",
     "output_type": "stream",
     "text": [
      "  1%|          | 88/10000 [02:35<5:16:09,  1.91s/it]"
     ]
    },
    {
     "name": "stdout",
     "output_type": "stream",
     "text": [
      "====================================\n",
      "0 Constantius was assigned Gaul and Britain.\n",
      "Thomas Michael Menino ( December 27 , 1942 – October 30 , 2014 ) was an American politician who served as the 53rd Mayor of Boston , Massachusetts from 1993 to 2014 .\n"
     ]
    },
    {
     "name": "stderr",
     "output_type": "stream",
     "text": [
      "  1%|          | 89/10000 [02:38<6:27:08,  2.34s/it]"
     ]
    },
    {
     "name": "stdout",
     "output_type": "stream",
     "text": [
      "====================================\n",
      "0 Thomas Michael Menino ( December 27, 1942 – October 30, 2014 ) was an American politician.\n",
      "On March 22 , 2018 , Peter Pellegrini became the 8th and current prime minister following the resignation of Robert Fico .\n"
     ]
    },
    {
     "name": "stderr",
     "output_type": "stream",
     "text": [
      "  1%|          | 90/10000 [02:40<6:13:37,  2.26s/it]"
     ]
    },
    {
     "name": "stdout",
     "output_type": "stream",
     "text": [
      "====================================\n",
      "0 False\n",
      "The shrine is dedicated to the veneration of Takeiwatatsu-no-Mikoto ( 健磐龍命 ) , who was a grandson of Japan 's first emperor and the brother of Emperor Suizei , the second monarch on the traditional list of emperors .\n"
     ]
    },
    {
     "name": "stderr",
     "output_type": "stream",
     "text": [
      "  1%|          | 91/10000 [02:45<8:17:12,  3.01s/it]"
     ]
    },
    {
     "name": "stdout",
     "output_type": "stream",
     "text": [
      "====================================\n",
      "0 The shrine is dedicated to the veneration of Takeiwatatsu-no-Mikoto (  ), who was a grandson of Japan's first emperor and the brother of Emperor Suizei,\n",
      "Antidepressants are used to treat major depressive disorder and of other conditions , including some anxiety disorders , some chronic pain conditions , and to help manage some addictions .\n"
     ]
    },
    {
     "name": "stderr",
     "output_type": "stream",
     "text": [
      "  1%|          | 92/10000 [02:48<8:13:29,  2.99s/it]"
     ]
    },
    {
     "name": "stdout",
     "output_type": "stream",
     "text": [
      "====================================\n",
      "0 Antidepressants are used to treat major depressive disorder and other conditions, including some anxiety disorders, some chronic pain conditions and to help manage some addictions.\n",
      "Mark Thomas Lawrenson ( born 2 June 1957 ) is a former Republic of Ireland international footballer who played as a defender for Liverpool , among others , during the 1970s and 1980s .\n"
     ]
    },
    {
     "name": "stderr",
     "output_type": "stream",
     "text": [
      "  1%|          | 93/10000 [02:49<6:54:47,  2.51s/it]"
     ]
    },
    {
     "name": "stdout",
     "output_type": "stream",
     "text": [
      "====================================\n",
      "0 Mark Thomas Lawrenson ( born 2 June 1957 ) is a former Republic of Ireland international football player.\n",
      "Marie Roslyn Bashir was born in 1930 in Narrandera , New South Wales , to Lebanese-born parents Michael Bashir and Victoria Melick .\n"
     ]
    },
    {
     "name": "stderr",
     "output_type": "stream",
     "text": [
      "  1%|          | 94/10000 [02:51<5:42:19,  2.07s/it]"
     ]
    },
    {
     "name": "stdout",
     "output_type": "stream",
     "text": [
      "====================================\n",
      "0 Marie Roslyn Bashir was born in Narrandera, New South Wales.\n",
      "The pants also have a redesigned lightning bolt in gold , with powder blue trim on a navy stripe .\n"
     ]
    },
    {
     "name": "stderr",
     "output_type": "stream",
     "text": [
      "  1%|          | 95/10000 [02:52<4:55:54,  1.79s/it]"
     ]
    },
    {
     "name": "stdout",
     "output_type": "stream",
     "text": [
      "====================================\n",
      "0 The pants have a redesigned lightning bolt in gold, with powder blue trim on a navy stripe.\n",
      "Chantilly Forest or Forest of Chantilly ( Fore ̂ t de Chantilly ) is a forest that spreads across 6344 ha , located mainly in the Oise , 35 km north of Paris .\n"
     ]
    },
    {
     "name": "stderr",
     "output_type": "stream",
     "text": [
      "  1%|          | 96/10000 [02:53<4:37:20,  1.68s/it]"
     ]
    },
    {
     "name": "stdout",
     "output_type": "stream",
     "text": [
      "====================================\n",
      "0 Chantilly Forest is a forest in the Oise, 35 km north of Paris.\n",
      "This debate was clarified greatly as a result of two molecular studies .\n"
     ]
    },
    {
     "name": "stderr",
     "output_type": "stream",
     "text": [
      "  1%|          | 97/10000 [02:54<3:48:43,  1.39s/it]"
     ]
    },
    {
     "name": "stdout",
     "output_type": "stream",
     "text": [
      "====================================\n",
      "0 This debate was greatly clarified by two molecular studies.\n",
      "The triangular turreted structure was set amidst a dense plantation of trees and overlooked Virginia Water , a man-made body of water constructed by Thomas and Paul Sandby at the behest of the Duke .\n"
     ]
    },
    {
     "name": "stderr",
     "output_type": "stream",
     "text": [
      "  1%|          | 98/10000 [02:56<4:52:06,  1.77s/it]"
     ]
    },
    {
     "name": "stdout",
     "output_type": "stream",
     "text": [
      "====================================\n",
      "0 The triangular turreted structure was set amidst a dense plantation of trees and overlooked Virginia Water, a man-made body of water constructed by Thomas and Paul Sandby\n",
      "He voiced Scar in the Swedish dub of \" The Lion King \" .\n"
     ]
    },
    {
     "name": "stderr",
     "output_type": "stream",
     "text": [
      "  1%|          | 99/10000 [02:58<4:46:43,  1.74s/it]"
     ]
    },
    {
     "name": "stdout",
     "output_type": "stream",
     "text": [
      "====================================\n",
      "0 He voiced Scar in the Swedish dub of \" The Lion King \".\n",
      "McAllister holds both German and British citizenship and speaks both German and English as native languages , although he has stated that he 's \" more or less completely German .\n"
     ]
    },
    {
     "name": "stderr",
     "output_type": "stream",
     "text": [
      "  1%|          | 100/10000 [03:01<5:28:51,  1.99s/it]"
     ]
    },
    {
     "name": "stdout",
     "output_type": "stream",
     "text": [
      "====================================\n",
      "0 McAllister has German and British citizenship and speaks both German and English as native languages, although he stated that he's \" more or less completely German.\n",
      "Charles Emmanuel continued a life of pleasure , far away from the affairs of state .\n"
     ]
    },
    {
     "name": "stderr",
     "output_type": "stream",
     "text": [
      "  1%|          | 101/10000 [03:01<4:23:38,  1.60s/it]"
     ]
    },
    {
     "name": "stdout",
     "output_type": "stream",
     "text": [
      "====================================\n",
      "0 Charles Emmanuel continued a life of pleasure, far away from the affairs of state.\n",
      "Juan Corona was born in Autla ́ n , Jalisco , Mexico on February 7 , 1934 .\n"
     ]
    },
    {
     "name": "stderr",
     "output_type": "stream",
     "text": [
      "  1%|          | 102/10000 [03:02<3:58:48,  1.45s/it]"
     ]
    },
    {
     "name": "stdout",
     "output_type": "stream",
     "text": [
      "====================================\n",
      "0 Juan Corona was born in Autla  n, Jalisco, Mexico.\n",
      "Leon Charney ( July 23 , 1938 – March 21 , 2016 ) was an American real estate tycoon , attorney , author , philanthropist , political pundit , media personality and Jewish cantor .\n"
     ]
    },
    {
     "name": "stderr",
     "output_type": "stream",
     "text": [
      "  1%|          | 103/10000 [03:06<5:41:39,  2.07s/it]"
     ]
    },
    {
     "name": "stdout",
     "output_type": "stream",
     "text": [
      "====================================\n",
      "0 Leon Charney ( July 23, 1938 – March 21, 2016 ) was an American real estate tycoon, attorney, author, philanthropist, political pun\n",
      "Men in Black II ( stylized as MIIB ) is a 2002 American science fiction action comedy film directed by Barry Sonnenfeld and written by Robert Gordon and Barry Fanaro .\n"
     ]
    },
    {
     "name": "stderr",
     "output_type": "stream",
     "text": [
      "  1%|          | 104/10000 [03:08<5:37:13,  2.04s/it]"
     ]
    },
    {
     "name": "stdout",
     "output_type": "stream",
     "text": [
      "====================================\n",
      "0 Men in Black II is a 2002 American science fiction action comedy movie directed by Barry Sonnenfeld.\n",
      "GMA Network ( Global Media Arts or simply GMA ) is a major national commercial broadcast television and radio network in the Philippines .\n"
     ]
    },
    {
     "name": "stderr",
     "output_type": "stream",
     "text": [
      "  1%|          | 105/10000 [03:10<5:28:35,  1.99s/it]"
     ]
    },
    {
     "name": "stdout",
     "output_type": "stream",
     "text": [
      "====================================\n",
      "0 GMA Network ( Global Media Arts or simply GMA ) is a major national broadcast television and radio network in the Philippines.\n",
      "The college was formally established following a successful county-wide election held in March 1967 .\n"
     ]
    },
    {
     "name": "stderr",
     "output_type": "stream",
     "text": [
      "  1%|          | 106/10000 [03:11<5:07:57,  1.87s/it]"
     ]
    },
    {
     "name": "stdout",
     "output_type": "stream",
     "text": [
      "====================================\n",
      "0 The college was formally established following a successful county-wide election held in March 1967.\n",
      "Glenne Headly was cast as Lola 's mother , Karen , while Carol Kane was cast as Miss Baggoli , who directs the school 's play .\n"
     ]
    },
    {
     "name": "stderr",
     "output_type": "stream",
     "text": [
      "  1%|          | 107/10000 [03:13<4:35:34,  1.67s/it]"
     ]
    },
    {
     "name": "stdout",
     "output_type": "stream",
     "text": [
      "====================================\n",
      "0 Glenne Headly was cast as Lola's mother, Karen.\n",
      "Therefore , with the agreement of the Prime Minister ( Clement Attlee ) and the Leader of the Opposition ( Winston Churchill ) in 1946 , both Orders returned to the personal gift of the Sovereign .\n"
     ]
    },
    {
     "name": "stderr",
     "output_type": "stream",
     "text": [
      "  1%|          | 108/10000 [03:15<5:32:12,  2.02s/it]"
     ]
    },
    {
     "name": "stdout",
     "output_type": "stream",
     "text": [
      "====================================\n",
      "0 Both Orders returned to the personal gift of the Sovereign, with the agreement of the Prime Minister ( Clement Attlee ) and the Leader of the Opposition ( Winston Churchill ) in 1946.\n",
      "James B. Dudley High School in the town of Greensboro , North Carolina , where the Agricultural and Technical University is located , was named after Dudley in recognition of his work for his community .\n"
     ]
    },
    {
     "name": "stderr",
     "output_type": "stream",
     "text": [
      "  1%|          | 109/10000 [03:17<5:18:41,  1.93s/it]"
     ]
    },
    {
     "name": "stdout",
     "output_type": "stream",
     "text": [
      "====================================\n",
      "0 James B. Dudley High School in Greensboro, North Carolina, where the Agricultural and Technical University is located\n",
      "Sekhemre Seusertawy Sobekhotep VIII was possibly the third king of the 16th Dynasty of Egypt reigning over the Theban region in Upper Egypt during the Second Intermediate Period .\n"
     ]
    },
    {
     "name": "stderr",
     "output_type": "stream",
     "text": [
      "  1%|          | 110/10000 [03:21<6:31:53,  2.38s/it]"
     ]
    },
    {
     "name": "stdout",
     "output_type": "stream",
     "text": [
      "====================================\n",
      "0 Sekhemre Seusertawy Sobekhotep VIII was possibly the third king of the 16th Dynasty of Egypt reigning over the Theban region in Upper Egypt during the Second Intermediate Period.\n",
      "Its county seat is Juneau .\n"
     ]
    },
    {
     "name": "stderr",
     "output_type": "stream",
     "text": [
      "  1%|          | 111/10000 [03:21<5:10:37,  1.88s/it]"
     ]
    },
    {
     "name": "stdout",
     "output_type": "stream",
     "text": [
      "====================================\n",
      "0 Its county seat is Juneau.\n",
      "Balti has retained many honorific words that are characteristic of Tibetan dialects and many other languages .\n"
     ]
    },
    {
     "name": "stderr",
     "output_type": "stream",
     "text": [
      "  1%|          | 112/10000 [03:23<4:47:54,  1.75s/it]"
     ]
    },
    {
     "name": "stdout",
     "output_type": "stream",
     "text": [
      "====================================\n",
      "0 Balti has retained many honorific words that are characteristic of Tibetan dialects and many other languages.\n",
      "She succeeded her brother Fatehsinghrao Gaekwad , Maharaja of Baroda , as chancellor when he died in 1988 .\n"
     ]
    },
    {
     "name": "stderr",
     "output_type": "stream",
     "text": [
      "  1%|          | 113/10000 [03:26<5:51:02,  2.13s/it]"
     ]
    },
    {
     "name": "stdout",
     "output_type": "stream",
     "text": [
      "====================================\n",
      "0 She succeeded her brother Fatehsinghrao Gaekwad, Maharaja of Baroda as chancellor when he died in 1988.\n",
      "Poseidon gave pity to Leto and guided her to the floating island of Delos , which was neither mainland nor a real island where Leto was able to give birth to her children .\n"
     ]
    },
    {
     "name": "stderr",
     "output_type": "stream",
     "text": [
      "  1%|          | 114/10000 [03:29<6:54:10,  2.51s/it]"
     ]
    },
    {
     "name": "stdout",
     "output_type": "stream",
     "text": [
      "====================================\n",
      "0 Poseidon gave pity to Leto and guided her to the floating island of Delos, which was neither mainland nor a real island where Leto could give birth to her children.\n",
      "According to the 2010 census , it had a population of 5,355 , making it the fourth-least populous county in Illinois .\n"
     ]
    },
    {
     "name": "stderr",
     "output_type": "stream",
     "text": [
      "  1%|          | 115/10000 [03:32<6:49:56,  2.49s/it]"
     ]
    },
    {
     "name": "stdout",
     "output_type": "stream",
     "text": [
      "====================================\n",
      "0 It had a population of 5,355, making it the fourth-least populous county in Illinois.\n",
      "Jakarta ( ; ] ) , officially the Special Capital Region of Jakarta , is the capital and largest city of Indonesia .\n"
     ]
    },
    {
     "name": "stderr",
     "output_type": "stream",
     "text": [
      "  1%|          | 116/10000 [03:33<5:31:42,  2.01s/it]"
     ]
    },
    {
     "name": "stdout",
     "output_type": "stream",
     "text": [
      "====================================\n",
      "0 Jakarta ( ; ] ) is the capital and largest city of Indonesia.\n",
      "She frequently works with Christopher Guest and has appeared in several of his mockumentaries , such as \" Waiting for Guffman \" ( 1996 ) , \" Best in Show \" ( 2000 ) , \" A Mighty Wind \" ( 2003 ) , \" For Your Consideration \" ( 2006 ) , and \" Mascots \" ( 2016 ) .\n"
     ]
    },
    {
     "name": "stderr",
     "output_type": "stream",
     "text": [
      "  1%|          | 117/10000 [03:36<6:37:45,  2.41s/it]"
     ]
    },
    {
     "name": "stdout",
     "output_type": "stream",
     "text": [
      "====================================\n",
      "0 She frequently works with Christopher Guest and has appeared in several of his mockumentaries, such as \" Waiting for Guffman \" ( 1996 ), \" Best in Show \" ( 2000\n",
      "He then signalled and asked people to gather around him before pulling weapons and ammunition from a bag and firing indiscriminately , killing and wounding numerous people .\n"
     ]
    },
    {
     "name": "stderr",
     "output_type": "stream",
     "text": [
      "  1%|          | 118/10000 [03:39<6:56:00,  2.53s/it]"
     ]
    },
    {
     "name": "stdout",
     "output_type": "stream",
     "text": [
      "====================================\n",
      "0 He then signalled and asked people to gather around him before pulling weapons and ammunition from a bag and firing indiscriminately, killing and wounding many people.\n",
      "Objectives included seizing and holding a major port for a short period , both to prove that it was possible and to gather intelligence .\n"
     ]
    },
    {
     "name": "stderr",
     "output_type": "stream",
     "text": [
      "  1%|          | 119/10000 [03:41<6:24:30,  2.33s/it]"
     ]
    },
    {
     "name": "stdout",
     "output_type": "stream",
     "text": [
      "====================================\n",
      "0 Paraphrase: Objectives included taking and holding a major port for a short period, both to prove that it was possible and to gather intelligence.\n",
      "It faces Kagawa Prefecture in Shikoku across the Seto Inland Sea and includes 90 islands in the sea .\n"
     ]
    },
    {
     "name": "stderr",
     "output_type": "stream",
     "text": [
      "  1%|          | 120/10000 [03:42<5:37:44,  2.05s/it]"
     ]
    },
    {
     "name": "stdout",
     "output_type": "stream",
     "text": [
      "====================================\n",
      "0 It faces Kagawa Prefecture in Shikoku across the Seto Inland Sea and includes 90 islands in the sea.\n",
      "After the crossing , Lawson , like Blaxland and Wentworth , was rewarded with a grant of 1,000 acres ( 4 km2 ) of land by Governor Macquarie .\n"
     ]
    },
    {
     "name": "stderr",
     "output_type": "stream",
     "text": [
      "  1%|          | 121/10000 [03:45<6:02:25,  2.20s/it]"
     ]
    },
    {
     "name": "stdout",
     "output_type": "stream",
     "text": [
      "====================================\n",
      "0 After the crossing, Lawson, like Blaxland and Wentworth, was rewarded with a grant of 1,000 acres ( 4 km2 )\n",
      "Not only were blackletter forms called \" Gothic script \" , but any other seemingly barbarian script , such as Visigothic , Beneventan , and Merovingian , were also labeled \" Gothic \" .\n"
     ]
    },
    {
     "name": "stderr",
     "output_type": "stream",
     "text": [
      "  1%|          | 122/10000 [03:48<6:59:57,  2.55s/it]"
     ]
    },
    {
     "name": "stdout",
     "output_type": "stream",
     "text": [
      "====================================\n",
      "0 Other seemingly barbarian scripts, such as Visigothic, Beneventan, and Merovingian, were also labeled \" Gothic \".\n",
      "This is because they have a single electron in their outer shell and , as this is relatively far from the nucleus of the atom , it is easily lost ; in other words , these metals have low ionization energies .\n"
     ]
    },
    {
     "name": "stderr",
     "output_type": "stream",
     "text": [
      "  1%|          | 123/10000 [03:50<6:36:04,  2.41s/it]"
     ]
    },
    {
     "name": "stdout",
     "output_type": "stream",
     "text": [
      "====================================\n",
      "0 This is because they have a single electron in their outer shell and, as this is relatively far from the nucleus of the atom, it is easily lost.\n",
      "The dance became internationally popular in the 1980s , especially in the Philippines , Latin America and Caribbean countries .\n"
     ]
    },
    {
     "name": "stderr",
     "output_type": "stream",
     "text": [
      "  1%|          | 124/10000 [03:51<5:30:25,  2.01s/it]"
     ]
    },
    {
     "name": "stdout",
     "output_type": "stream",
     "text": [
      "====================================\n",
      "0 The dance became internationally popular in the 1980s, especially in the Philippines, Latin America and Caribbean countries.\n",
      "Its seat is located in Stro ̈ msund .\n"
     ]
    },
    {
     "name": "stderr",
     "output_type": "stream",
     "text": [
      "  1%|▏         | 125/10000 [03:52<4:45:09,  1.73s/it]"
     ]
    },
    {
     "name": "stdout",
     "output_type": "stream",
     "text": [
      "====================================\n",
      "0 Its seat is in Stro  msund.\n",
      "As noted by the Nobel Prize committee , \" the great complexity of eukaryotic organisms is actually enabled by the fine interplay between tissue-specific substances , enhancers in the DNA and Mediator .\n"
     ]
    },
    {
     "name": "stderr",
     "output_type": "stream",
     "text": [
      "  1%|▏         | 126/10000 [03:52<3:37:10,  1.32s/it]"
     ]
    },
    {
     "name": "stdout",
     "output_type": "stream",
     "text": [
      "====================================\n",
      "0 True\n",
      "The Aymara flag is known as the Wiphala ; it consists of seven colors quilted together with diagonal stripes .\n"
     ]
    },
    {
     "name": "stderr",
     "output_type": "stream",
     "text": [
      "  1%|▏         | 127/10000 [03:55<4:19:25,  1.58s/it]"
     ]
    },
    {
     "name": "stdout",
     "output_type": "stream",
     "text": [
      "====================================\n",
      "0 Aymara flag is known as the Wiphala ; it consists of seven colors quilted together with diagonal stripes.\n",
      "Although members of the order Sparassodonta showed many similarities with placental carnivores , they were not closely related and are a very good example of convergent evolution .\n"
     ]
    },
    {
     "name": "stderr",
     "output_type": "stream",
     "text": [
      "  1%|▏         | 128/10000 [03:57<5:04:32,  1.85s/it]"
     ]
    },
    {
     "name": "stdout",
     "output_type": "stream",
     "text": [
      "====================================\n",
      "0 Paraphrase: Although members of the order Sparassodonta showed many similarities with placental carnivores, they were not closely related and are\n",
      "The band won nine MTV Europe Music Awards , including three Best Rock in 2007 , 2008 and 2010 , and four Best Alternative in 2011 , 2013 , 2014 and 2017 .\n"
     ]
    },
    {
     "name": "stderr",
     "output_type": "stream",
     "text": [
      "  1%|▏         | 129/10000 [03:59<5:24:57,  1.98s/it]"
     ]
    },
    {
     "name": "stdout",
     "output_type": "stream",
     "text": [
      "====================================\n",
      "0 The band won nine MTV Europe Music Awards, including three Best Rock in 2007, 2008 and 2010, and four Best Alternative in 2011,\n",
      "The division was created in 1984 and is named after Frank Forde , who was Prime Minister of Australia for seven days in 1945 following the death of John Curtin .\n"
     ]
    },
    {
     "name": "stderr",
     "output_type": "stream",
     "text": [
      "  1%|▏         | 130/10000 [04:02<5:46:59,  2.11s/it]"
     ]
    },
    {
     "name": "stdout",
     "output_type": "stream",
     "text": [
      "====================================\n",
      "0 False\n",
      "The Bernese Jura of today comprises only three out of a total of seven districts which were known as the Bernese Jura during the period of 1815 – 1979 .\n"
     ]
    },
    {
     "name": "stderr",
     "output_type": "stream",
     "text": [
      "  1%|▏         | 131/10000 [04:04<5:55:08,  2.16s/it]"
     ]
    },
    {
     "name": "stdout",
     "output_type": "stream",
     "text": [
      "====================================\n",
      "0 False\n",
      "Wang Hao ( ; born August 4 , 1989 ) is a Chinese chess grandmaster .\n"
     ]
    },
    {
     "name": "stderr",
     "output_type": "stream",
     "text": [
      "  1%|▏         | 132/10000 [04:06<5:27:53,  1.99s/it]"
     ]
    },
    {
     "name": "stdout",
     "output_type": "stream",
     "text": [
      "====================================\n",
      "0 Wang Hao ( ; born August 4, 1989 ) is a Chinese chess grandmaster.\n",
      "An important component of the city 's economy is tourism which currently accounts for DKK 1.2 billion ( US $ 200 million ) per annum .\n"
     ]
    },
    {
     "name": "stderr",
     "output_type": "stream",
     "text": [
      "  1%|▏         | 133/10000 [04:08<5:43:39,  2.09s/it]"
     ]
    },
    {
     "name": "stdout",
     "output_type": "stream",
     "text": [
      "====================================\n",
      "0 Paraphrase: One important component of the city's economy is tourism which currently accounts for DKK 1.2 billion ( US $ 200 million ) per year.\n",
      "The Australian Paralympic Committee expects Mitchell Gourley , Melissa Perrine , Joany Badenhorst and Ben Tudhope to be medal contenders .\n"
     ]
    },
    {
     "name": "stderr",
     "output_type": "stream",
     "text": [
      "  1%|▏         | 134/10000 [04:10<5:51:49,  2.14s/it]"
     ]
    },
    {
     "name": "stdout",
     "output_type": "stream",
     "text": [
      "====================================\n",
      "0 The Australian Paralympic Committee expects Mitchell Gourley, Melissa Perrine, Joany Badenhorst and Ben Tudhope to be medal contenders.\n",
      "Many houses in North America have at least two bedrooms — usually a master bedroom and one or more bedrooms for either the children or guests .\n"
     ]
    },
    {
     "name": "stderr",
     "output_type": "stream",
     "text": [
      "  1%|▏         | 135/10000 [04:13<6:32:13,  2.39s/it]"
     ]
    },
    {
     "name": "stdout",
     "output_type": "stream",
     "text": [
      "====================================\n",
      "0 Many houses in North America have at least two bedrooms — usually a master bedroom and one or more bedrooms for either the children or guests.\n",
      "It is located in the Mid-Hudson Region of the Hudson Valley , north of New York City .\n"
     ]
    },
    {
     "name": "stderr",
     "output_type": "stream",
     "text": [
      "  1%|▏         | 136/10000 [04:15<5:59:32,  2.19s/it]"
     ]
    },
    {
     "name": "stdout",
     "output_type": "stream",
     "text": [
      "====================================\n",
      "0 It is located in the Mid-Hudson Region of the Hudson Valley, north of New York City.\n",
      "He is well known for his method acting .\n"
     ]
    },
    {
     "name": "stderr",
     "output_type": "stream",
     "text": [
      "  1%|▏         | 137/10000 [04:16<4:55:15,  1.80s/it]"
     ]
    },
    {
     "name": "stdout",
     "output_type": "stream",
     "text": [
      "====================================\n",
      "0 He is well known for his method acting.\n",
      "He moved to North America at the age of 17 and joined the Spokane Chiefs of the major junior Western Hockey League ( WHL ) to further his hockey career .\n"
     ]
    },
    {
     "name": "stderr",
     "output_type": "stream",
     "text": [
      "  1%|▏         | 138/10000 [04:18<5:20:16,  1.95s/it]"
     ]
    },
    {
     "name": "stdout",
     "output_type": "stream",
     "text": [
      "====================================\n",
      "0 He joined the Spokane Chiefs of the major junior Western Hockey League ( WHL ) to further his hockey career.\n",
      "An Intertropical Convergence Zone ( ITCZ ) disturbance developed into a tropical depression while east of the Windward Islands on September 23 .\n"
     ]
    },
    {
     "name": "stderr",
     "output_type": "stream",
     "text": [
      "  1%|▏         | 139/10000 [04:20<5:38:37,  2.06s/it]"
     ]
    },
    {
     "name": "stdout",
     "output_type": "stream",
     "text": [
      "====================================\n",
      "0 An Intertropical Convergence Zone ( ITCZ ) disturbance developed into a tropical depression while east of the Windward Islands on September 23.\n",
      "It currently consists of lead vocalist Mark Foster , lead guitarist Sean Cimino , keyboardist Isom Innis , and drummer Mark Pontius .\n"
     ]
    },
    {
     "name": "stderr",
     "output_type": "stream",
     "text": [
      "  1%|▏         | 140/10000 [04:22<5:21:50,  1.96s/it]"
     ]
    },
    {
     "name": "stdout",
     "output_type": "stream",
     "text": [
      "====================================\n",
      "0 It consists of lead vocalist Mark Foster, lead guitarist Sean Cimino, keyboardist Isom Innis and drummer Mark Pontius.\n",
      "for the NES , so they asked the studio to design the gameplay to be exactly like it and the characters to look like the original games .\n"
     ]
    },
    {
     "name": "stderr",
     "output_type": "stream",
     "text": [
      "  1%|▏         | 141/10000 [04:24<4:49:19,  1.76s/it]"
     ]
    },
    {
     "name": "stdout",
     "output_type": "stream",
     "text": [
      "====================================\n",
      "0 For the NES, so they asked the studio to design the gameplay to be exactly like it and the characters to look like the original games.\n",
      "In 2003 , he received a PhD in history from Queen Mary , University of London .\n"
     ]
    },
    {
     "name": "stderr",
     "output_type": "stream",
     "text": [
      "  1%|▏         | 142/10000 [04:25<4:31:28,  1.65s/it]"
     ]
    },
    {
     "name": "stdout",
     "output_type": "stream",
     "text": [
      "====================================\n",
      "0 He received a PhD in history from Queen Mary, University of London.\n",
      "He died in Poznan ́ , Poland on 22 November 2014 .\n"
     ]
    },
    {
     "name": "stderr",
     "output_type": "stream",
     "text": [
      "  1%|▏         | 143/10000 [04:26<4:01:58,  1.47s/it]"
     ]
    },
    {
     "name": "stdout",
     "output_type": "stream",
     "text": [
      "====================================\n",
      "0 He died in Poznan , Poland on 22 November 2014.\n",
      "Lonnie Alexander \" Lon \" Simmons ( July 19 , 1923 – April 5 , 2015 ) was an American baseball and football broadcaster , and was broadcasting part-time for the San Francisco Giants at the time of his death .\n"
     ]
    },
    {
     "name": "stderr",
     "output_type": "stream",
     "text": [
      "  1%|▏         | 144/10000 [04:29<5:43:14,  2.09s/it]"
     ]
    },
    {
     "name": "stdout",
     "output_type": "stream",
     "text": [
      "====================================\n",
      "0 Lonnie Alexander \" Lon \" Simmons ( July 19, 1923 – April 5, 2015 ) was an American baseball and football broadcaster.\n",
      "For example , rounding x = 2.1784 dollars to whole cents ( i.e. , to a multiple of 0.01 ) entails computing 2.1784/0.01 = 217.84 , then rounding that to 218 , and finally computing 218 × 0.01 = 2.18 .\n"
     ]
    },
    {
     "name": "stderr",
     "output_type": "stream",
     "text": [
      "  1%|▏         | 145/10000 [04:34<7:40:56,  2.81s/it]"
     ]
    },
    {
     "name": "stdout",
     "output_type": "stream",
     "text": [
      "====================================\n",
      "0 For example, rounding x = 2,1784 dollars to whole cents ( i.e., to a multiple of 0.01 ) entails computing 2.1784/0.01 = 217.84\n",
      "Taxila ( from Pa ̄ li : Takkasila ̄ , Sanskrit : तक ् षशिला , IAST : \" \" , meaning \" City of Cut Stone \" or \" Rock \" ) is an important archaeological site of the ancient Indian subcontinent , located in the city of Taxila in Punjab , Pakistan .\n"
     ]
    },
    {
     "name": "stderr",
     "output_type": "stream",
     "text": [
      "  1%|▏         | 146/10000 [04:36<7:25:01,  2.71s/it]"
     ]
    },
    {
     "name": "stdout",
     "output_type": "stream",
     "text": [
      "====================================\n",
      "0 Taxila is an important archaeological site of the ancient Indian subcontinent.\n",
      "( \" The better to hug / grab you with \" , responds the wolf ) , and lastly , \" What a big mouth you have \" ( \" The better to eat you with ! \" ,\n"
     ]
    },
    {
     "name": "stderr",
     "output_type": "stream",
     "text": [
      "  1%|▏         | 147/10000 [04:38<6:50:54,  2.50s/it]"
     ]
    },
    {
     "name": "stdout",
     "output_type": "stream",
     "text": [
      "====================================\n",
      "0 Paraphrase : ( \" The better to hug / grab you with \", responds the wolf ), and lastly, \" What a big mouth you\n",
      "E ́ coivres is a commune in the Pas-de-Calais department in the Hauts-de-France region of France .\n"
     ]
    },
    {
     "name": "stderr",
     "output_type": "stream",
     "text": [
      "  1%|▏         | 148/10000 [04:41<6:33:10,  2.39s/it]"
     ]
    },
    {
     "name": "stdout",
     "output_type": "stream",
     "text": [
      "====================================\n",
      "0 E  coivres is a commune.\n",
      "By the 14th century , damasks were being woven on draw looms in Italy .\n"
     ]
    },
    {
     "name": "stderr",
     "output_type": "stream",
     "text": [
      "  1%|▏         | 149/10000 [04:42<6:01:38,  2.20s/it]"
     ]
    },
    {
     "name": "stdout",
     "output_type": "stream",
     "text": [
      "====================================\n",
      "0 By the 14th century, damasks were being woven on draw looms in Italy.\n",
      "His last two films were not released until 1983 : \" Blue Thunder \" , which was filmed in early 1980 , and \" Tough Enough \" , filmed in late 1981 .\n"
     ]
    },
    {
     "name": "stderr",
     "output_type": "stream",
     "text": [
      "  2%|▏         | 150/10000 [04:43<4:54:02,  1.79s/it]"
     ]
    },
    {
     "name": "stdout",
     "output_type": "stream",
     "text": [
      "====================================\n",
      "0 His last two movies were not released until 1983 : \" Blue Thunder \", which was filmed in early 1980, and \" Tough Enough \" \n",
      "Squires died at her home in Missoula , Montana .\n"
     ]
    },
    {
     "name": "stderr",
     "output_type": "stream",
     "text": [
      "  2%|▏         | 151/10000 [04:44<3:50:29,  1.40s/it]"
     ]
    },
    {
     "name": "stdout",
     "output_type": "stream",
     "text": [
      "====================================\n",
      "0 Squires died at her home in Missoula, Montana.\n",
      "In many countries , CB operation does not require a license , and ( unlike amateur radio ) it may be used for business or personal communications .\n"
     ]
    },
    {
     "name": "stderr",
     "output_type": "stream",
     "text": [
      "  2%|▏         | 152/10000 [04:44<3:19:46,  1.22s/it]"
     ]
    },
    {
     "name": "stdout",
     "output_type": "stream",
     "text": [
      "====================================\n",
      "0 In many countries, CB operation does not require a license, and ( unlike amateur radio ) it may be used for business or personal communications.\n",
      "Germanicus survived a little over a year before dying , accusing Gnaeus Calpurnius Piso , the governor of Syria , of poisoning him .\n"
     ]
    },
    {
     "name": "stderr",
     "output_type": "stream",
     "text": [
      "  2%|▏         | 153/10000 [04:45<3:08:02,  1.15s/it]"
     ]
    },
    {
     "name": "stdout",
     "output_type": "stream",
     "text": [
      "====================================\n",
      "0 Germanicus survived about a year before dying, accusing Gnaeus Calpurnius Piso, the governor of Syria, of poisoning him.\n",
      "The song received mostly positive reviews by music critics .\n"
     ]
    },
    {
     "name": "stderr",
     "output_type": "stream",
     "text": [
      "  2%|▏         | 154/10000 [04:46<2:27:09,  1.12it/s]"
     ]
    },
    {
     "name": "stdout",
     "output_type": "stream",
     "text": [
      "====================================\n",
      "0 The song received positive reviews by music critics.\n",
      "Due to the months-long spill , along with adverse effects from the response and cleanup activities , extensive damage to marine and wildlife habitats and fishing and tourism industries was reported .\n"
     ]
    },
    {
     "name": "stderr",
     "output_type": "stream",
     "text": [
      "  2%|▏         | 155/10000 [04:47<2:31:36,  1.08it/s]"
     ]
    },
    {
     "name": "stdout",
     "output_type": "stream",
     "text": [
      "====================================\n",
      "0 Due to the months-long spill, along with adverse effects from the response and cleanup activities, extensive damage to marine and wildlife habitats and fishing and tourism industries was reported.\n",
      "Their appearances at Monterey and Woodstock helped give them a reputation as one of the greatest live rock acts and they have been credited with originating the \" rock opera \" .\n"
     ]
    },
    {
     "name": "stderr",
     "output_type": "stream",
     "text": [
      "  2%|▏         | 156/10000 [04:48<2:37:30,  1.04it/s]"
     ]
    },
    {
     "name": "stdout",
     "output_type": "stream",
     "text": [
      "====================================\n",
      "0 Their appearances at Monterey and Woodstock helped give them a reputation as one of the greatest live rock acts.\n",
      "Tystberga is a locality situated in Nyko ̈ ping Municipality , So ̈ dermanland County , Sweden with 828 inhabitants in 2010 .\n"
     ]
    },
    {
     "name": "stderr",
     "output_type": "stream",
     "text": [
      "  2%|▏         | 157/10000 [04:50<3:20:44,  1.22s/it]"
     ]
    },
    {
     "name": "stdout",
     "output_type": "stream",
     "text": [
      "====================================\n",
      "0 Tystberga is a locality in Nyko  ping Municipality in So  dermanland County in Sweden.\n",
      "He is regarded as the founder of single-particle cryo-electron microscopy ( cryo-EM ) , for which he shared the Nobel Prize in Chemistry in 2017 with Jacques Dubochet and Richard Henderson .\n"
     ]
    },
    {
     "name": "stderr",
     "output_type": "stream",
     "text": [
      "  2%|▏         | 158/10000 [04:54<5:51:58,  2.15s/it]"
     ]
    },
    {
     "name": "stdout",
     "output_type": "stream",
     "text": [
      "====================================\n",
      "0 He is regarded as the founder of cryo-electron microscopy, for which he shared the Nobel Prize in Chemistry in 2017 with Jacques Dubochet and Richard Henderson.\n",
      "They had four children : son Richard , and daughters Gerry , Janet , and Jeanie .\n"
     ]
    },
    {
     "name": "stderr",
     "output_type": "stream",
     "text": [
      "  2%|▏         | 159/10000 [04:55<5:22:17,  1.96s/it]"
     ]
    },
    {
     "name": "stdout",
     "output_type": "stream",
     "text": [
      "====================================\n",
      "0 They had four children : son Richard, and daughters Gerry, Janet and Jeanie.\n",
      "Among the hits that followed were \" Wishin ' and Hopin ' \" ( 1964 ) , \" I Just Do n't Know What to Do with Myself \" ( 1964 ) , \" You Do n't Have to Say You Love Me \" ( 1966 ) , and \" Son of a Preacher Man \" ( 1968 ) .\n"
     ]
    },
    {
     "name": "stderr",
     "output_type": "stream",
     "text": [
      "  2%|▏         | 160/10000 [04:58<6:12:43,  2.27s/it]"
     ]
    },
    {
     "name": "stdout",
     "output_type": "stream",
     "text": [
      "====================================\n",
      "0 Among the hits that followed were \" Wishin \" and Hopin'\" ( 1964 ), \" I Just Don't Know What to Do with Myself \" (\n",
      "The Super League Greece \" \" \" or Super League One \" , is the highest professional football league in Greece .\n"
     ]
    },
    {
     "name": "stderr",
     "output_type": "stream",
     "text": [
      "  2%|▏         | 161/10000 [05:00<5:20:38,  1.96s/it]"
     ]
    },
    {
     "name": "stdout",
     "output_type": "stream",
     "text": [
      "====================================\n",
      "0 Super League Greece, or Super League One, is the highest professional football league in Greece.\n",
      "Honda is a town and municipality in the Tolima department of Colombia .\n"
     ]
    },
    {
     "name": "stderr",
     "output_type": "stream",
     "text": [
      "  2%|▏         | 162/10000 [05:01<4:29:30,  1.64s/it]"
     ]
    },
    {
     "name": "stdout",
     "output_type": "stream",
     "text": [
      "====================================\n",
      "0 Honda is a town and municipality in Tolima department of Colombia.\n",
      "For the offensive to be successful , four criteria were deemed critical : the attack had to be a complete surprise ; the weather conditions had to be poor to neutralize Allied air superiority and the damage it could inflict on the German offensive and its supply lines ; the progress had to be rapid — the Meuse River , halfway to Antwerp , had to be reached by day 4 ; and Allied fuel supplies would have to be captured intact along the way because the combined Wehrmacht forces were short on fuel .\n"
     ]
    },
    {
     "name": "stderr",
     "output_type": "stream",
     "text": [
      "  2%|▏         | 163/10000 [05:06<7:50:58,  2.87s/it]"
     ]
    },
    {
     "name": "stdout",
     "output_type": "stream",
     "text": [
      "====================================\n",
      "0 For the offensive to be successful, four criteria were deemed critical : the attack had to be a complete surprise ; the weather conditions were poor to neutralize Allied air superiority and the damage it could inflict on the German offensive and its supply lines ;\n",
      "It was released by Warner Home Video on DVD and Blu-ray ( 2D and 3D ) on June 17 , 2014 .\n"
     ]
    },
    {
     "name": "stderr",
     "output_type": "stream",
     "text": [
      "  2%|▏         | 164/10000 [05:08<7:08:53,  2.62s/it]"
     ]
    },
    {
     "name": "stdout",
     "output_type": "stream",
     "text": [
      "====================================\n",
      "0 It was released on DVD and Blu-ray ( 2D and 3D ) on June 17, 2014.\n",
      "Carbonell was born in New York City to Cuban parents Ne ́ stor Tulio Carbonell Cortina and Rosa Rami ́ rez de Arellano Ca ́ rdenas .\n"
     ]
    },
    {
     "name": "stderr",
     "output_type": "stream",
     "text": [
      "  2%|▏         | 165/10000 [05:10<6:27:54,  2.37s/it]"
     ]
    },
    {
     "name": "stdout",
     "output_type": "stream",
     "text": [
      "====================================\n",
      "0 He was born in New York City to Cuban parents Ne  stor Tulio Carbonell Cortina\n",
      "Since 2001 , she has also served on the UN Secretary General 's Advisory Board on Disarmament Affairs ( 2001 – 2005 ) and continued to do so while holding the post of Pakistan 's High Commissioner to the United Kingdom ( 2003 – 2008 ) .\n"
     ]
    },
    {
     "name": "stderr",
     "output_type": "stream",
     "text": [
      "  2%|▏         | 166/10000 [05:13<7:14:37,  2.65s/it]"
     ]
    },
    {
     "name": "stdout",
     "output_type": "stream",
     "text": [
      "====================================\n",
      "0 She has also served on the UN Secretary General's Advisory Board on Disarmament Affairs ( 2001 – 2005 ) and continued to do so while holding the post of Pakistan '\n",
      "He died after a brief hospitalization in 2014 .\n"
     ]
    },
    {
     "name": "stderr",
     "output_type": "stream",
     "text": [
      "  2%|▏         | 166/10000 [05:14<5:10:21,  1.89s/it]\n"
     ]
    },
    {
     "ename": "KeyboardInterrupt",
     "evalue": "",
     "output_type": "error",
     "traceback": [
      "\u001b[0;31m---------------------------------------------------------------------------\u001b[0m",
      "\u001b[0;31mKeyboardInterrupt\u001b[0m                         Traceback (most recent call last)",
      "\u001b[1;32m/home2/aparna/ANLP-Poject/src/metric/transformer_metric_ours.ipynb Cell 6\u001b[0m line \u001b[0;36m2\n\u001b[1;32m     <a href='vscode-notebook-cell://ssh-remote%2Bgnode040/home2/aparna/ANLP-Poject/src/metric/transformer_metric_ours.ipynb#W5sdnNjb2RlLXJlbW90ZQ%3D%3D?line=23'>24</a>\u001b[0m inputs \u001b[39m=\u001b[39m tokenizer\u001b[39m.\u001b[39mencode(\u001b[39m\"\u001b[39m\u001b[39mparaphrase: \u001b[39m\u001b[39m\"\u001b[39m \u001b[39m+\u001b[39m text, return_tensors\u001b[39m=\u001b[39m\u001b[39m\"\u001b[39m\u001b[39mpt\u001b[39m\u001b[39m\"\u001b[39m, max_length\u001b[39m=\u001b[39m\u001b[39m512\u001b[39m, truncation\u001b[39m=\u001b[39m\u001b[39mTrue\u001b[39;00m)\n\u001b[1;32m     <a href='vscode-notebook-cell://ssh-remote%2Bgnode040/home2/aparna/ANLP-Poject/src/metric/transformer_metric_ours.ipynb#W5sdnNjb2RlLXJlbW90ZQ%3D%3D?line=25'>26</a>\u001b[0m \u001b[39m# generate text until the output length (which includes the context length) reaches 50\u001b[39;00m\n\u001b[0;32m---> <a href='vscode-notebook-cell://ssh-remote%2Bgnode040/home2/aparna/ANLP-Poject/src/metric/transformer_metric_ours.ipynb#W5sdnNjb2RlLXJlbW90ZQ%3D%3D?line=26'>27</a>\u001b[0m beam_outputs \u001b[39m=\u001b[39m model\u001b[39m.\u001b[39;49mgenerate(inputs,max_length\u001b[39m=\u001b[39;49mmax_l,num_beams\u001b[39m=\u001b[39;49mnum_b,early_stopping\u001b[39m=\u001b[39;49m\u001b[39mTrue\u001b[39;49;00m,\n\u001b[1;32m     <a href='vscode-notebook-cell://ssh-remote%2Bgnode040/home2/aparna/ANLP-Poject/src/metric/transformer_metric_ours.ipynb#W5sdnNjb2RlLXJlbW90ZQ%3D%3D?line=27'>28</a>\u001b[0m     no_repeat_ngram_size\u001b[39m=\u001b[39;49m\u001b[39m3\u001b[39;49m,\n\u001b[1;32m     <a href='vscode-notebook-cell://ssh-remote%2Bgnode040/home2/aparna/ANLP-Poject/src/metric/transformer_metric_ours.ipynb#W5sdnNjb2RlLXJlbW90ZQ%3D%3D?line=28'>29</a>\u001b[0m     num_return_sequences\u001b[39m=\u001b[39;49m\u001b[39m1\u001b[39;49m,\n\u001b[1;32m     <a href='vscode-notebook-cell://ssh-remote%2Bgnode040/home2/aparna/ANLP-Poject/src/metric/transformer_metric_ours.ipynb#W5sdnNjb2RlLXJlbW90ZQ%3D%3D?line=29'>30</a>\u001b[0m     top_k\u001b[39m=\u001b[39;49m\u001b[39m4\u001b[39;49m, top_p\u001b[39m=\u001b[39;49m\u001b[39m0.95\u001b[39;49m\n\u001b[1;32m     <a href='vscode-notebook-cell://ssh-remote%2Bgnode040/home2/aparna/ANLP-Poject/src/metric/transformer_metric_ours.ipynb#W5sdnNjb2RlLXJlbW90ZQ%3D%3D?line=30'>31</a>\u001b[0m     \u001b[39m# return_dict_in_generate=True,\u001b[39;49;00m\n\u001b[1;32m     <a href='vscode-notebook-cell://ssh-remote%2Bgnode040/home2/aparna/ANLP-Poject/src/metric/transformer_metric_ours.ipynb#W5sdnNjb2RlLXJlbW90ZQ%3D%3D?line=31'>32</a>\u001b[0m )\n\u001b[1;32m     <a href='vscode-notebook-cell://ssh-remote%2Bgnode040/home2/aparna/ANLP-Poject/src/metric/transformer_metric_ours.ipynb#W5sdnNjb2RlLXJlbW90ZQ%3D%3D?line=32'>33</a>\u001b[0m \u001b[39mprint\u001b[39m(\u001b[39m\"\u001b[39m\u001b[39m====================================\u001b[39m\u001b[39m\"\u001b[39m)\n\u001b[1;32m     <a href='vscode-notebook-cell://ssh-remote%2Bgnode040/home2/aparna/ANLP-Poject/src/metric/transformer_metric_ours.ipynb#W5sdnNjb2RlLXJlbW90ZQ%3D%3D?line=34'>35</a>\u001b[0m \u001b[39mfor\u001b[39;00m i, beam \u001b[39min\u001b[39;00m \u001b[39menumerate\u001b[39m(beam_outputs):\n",
      "File \u001b[0;32m~/miniconda3/envs/new/lib/python3.8/site-packages/torch/utils/_contextlib.py:115\u001b[0m, in \u001b[0;36mcontext_decorator.<locals>.decorate_context\u001b[0;34m(*args, **kwargs)\u001b[0m\n\u001b[1;32m    112\u001b[0m \u001b[39m@functools\u001b[39m\u001b[39m.\u001b[39mwraps(func)\n\u001b[1;32m    113\u001b[0m \u001b[39mdef\u001b[39;00m \u001b[39mdecorate_context\u001b[39m(\u001b[39m*\u001b[39margs, \u001b[39m*\u001b[39m\u001b[39m*\u001b[39mkwargs):\n\u001b[1;32m    114\u001b[0m     \u001b[39mwith\u001b[39;00m ctx_factory():\n\u001b[0;32m--> 115\u001b[0m         \u001b[39mreturn\u001b[39;00m func(\u001b[39m*\u001b[39;49margs, \u001b[39m*\u001b[39;49m\u001b[39m*\u001b[39;49mkwargs)\n",
      "File \u001b[0;32m~/miniconda3/envs/new/lib/python3.8/site-packages/transformers/generation/utils.py:1752\u001b[0m, in \u001b[0;36mGenerationMixin.generate\u001b[0;34m(self, inputs, generation_config, logits_processor, stopping_criteria, prefix_allowed_tokens_fn, synced_gpus, assistant_model, streamer, negative_prompt_ids, negative_prompt_attention_mask, **kwargs)\u001b[0m\n\u001b[1;32m   1745\u001b[0m     input_ids, model_kwargs \u001b[39m=\u001b[39m \u001b[39mself\u001b[39m\u001b[39m.\u001b[39m_expand_inputs_for_generation(\n\u001b[1;32m   1746\u001b[0m         input_ids\u001b[39m=\u001b[39minput_ids,\n\u001b[1;32m   1747\u001b[0m         expand_size\u001b[39m=\u001b[39mgeneration_config\u001b[39m.\u001b[39mnum_beams,\n\u001b[1;32m   1748\u001b[0m         is_encoder_decoder\u001b[39m=\u001b[39m\u001b[39mself\u001b[39m\u001b[39m.\u001b[39mconfig\u001b[39m.\u001b[39mis_encoder_decoder,\n\u001b[1;32m   1749\u001b[0m         \u001b[39m*\u001b[39m\u001b[39m*\u001b[39mmodel_kwargs,\n\u001b[1;32m   1750\u001b[0m     )\n\u001b[1;32m   1751\u001b[0m     \u001b[39m# 13. run beam search\u001b[39;00m\n\u001b[0;32m-> 1752\u001b[0m     \u001b[39mreturn\u001b[39;00m \u001b[39mself\u001b[39;49m\u001b[39m.\u001b[39;49mbeam_search(\n\u001b[1;32m   1753\u001b[0m         input_ids,\n\u001b[1;32m   1754\u001b[0m         beam_scorer,\n\u001b[1;32m   1755\u001b[0m         logits_processor\u001b[39m=\u001b[39;49mlogits_processor,\n\u001b[1;32m   1756\u001b[0m         stopping_criteria\u001b[39m=\u001b[39;49mstopping_criteria,\n\u001b[1;32m   1757\u001b[0m         pad_token_id\u001b[39m=\u001b[39;49mgeneration_config\u001b[39m.\u001b[39;49mpad_token_id,\n\u001b[1;32m   1758\u001b[0m         eos_token_id\u001b[39m=\u001b[39;49mgeneration_config\u001b[39m.\u001b[39;49meos_token_id,\n\u001b[1;32m   1759\u001b[0m         output_scores\u001b[39m=\u001b[39;49mgeneration_config\u001b[39m.\u001b[39;49moutput_scores,\n\u001b[1;32m   1760\u001b[0m         return_dict_in_generate\u001b[39m=\u001b[39;49mgeneration_config\u001b[39m.\u001b[39;49mreturn_dict_in_generate,\n\u001b[1;32m   1761\u001b[0m         synced_gpus\u001b[39m=\u001b[39;49msynced_gpus,\n\u001b[1;32m   1762\u001b[0m         \u001b[39m*\u001b[39;49m\u001b[39m*\u001b[39;49mmodel_kwargs,\n\u001b[1;32m   1763\u001b[0m     )\n\u001b[1;32m   1765\u001b[0m \u001b[39melif\u001b[39;00m generation_mode \u001b[39m==\u001b[39m GenerationMode\u001b[39m.\u001b[39mBEAM_SAMPLE:\n\u001b[1;32m   1766\u001b[0m     \u001b[39m# 11. prepare logits warper\u001b[39;00m\n\u001b[1;32m   1767\u001b[0m     logits_warper \u001b[39m=\u001b[39m \u001b[39mself\u001b[39m\u001b[39m.\u001b[39m_get_logits_warper(generation_config)\n",
      "File \u001b[0;32m~/miniconda3/envs/new/lib/python3.8/site-packages/transformers/generation/utils.py:3164\u001b[0m, in \u001b[0;36mGenerationMixin.beam_search\u001b[0;34m(self, input_ids, beam_scorer, logits_processor, stopping_criteria, max_length, pad_token_id, eos_token_id, output_attentions, output_hidden_states, output_scores, return_dict_in_generate, synced_gpus, **model_kwargs)\u001b[0m\n\u001b[1;32m   3160\u001b[0m model_kwargs \u001b[39m=\u001b[39m \u001b[39mself\u001b[39m\u001b[39m.\u001b[39m_update_model_kwargs_for_generation(\n\u001b[1;32m   3161\u001b[0m     outputs, model_kwargs, is_encoder_decoder\u001b[39m=\u001b[39m\u001b[39mself\u001b[39m\u001b[39m.\u001b[39mconfig\u001b[39m.\u001b[39mis_encoder_decoder\n\u001b[1;32m   3162\u001b[0m )\n\u001b[1;32m   3163\u001b[0m \u001b[39mif\u001b[39;00m model_kwargs[\u001b[39m\"\u001b[39m\u001b[39mpast_key_values\u001b[39m\u001b[39m\"\u001b[39m] \u001b[39mis\u001b[39;00m \u001b[39mnot\u001b[39;00m \u001b[39mNone\u001b[39;00m:\n\u001b[0;32m-> 3164\u001b[0m     model_kwargs[\u001b[39m\"\u001b[39m\u001b[39mpast_key_values\u001b[39m\u001b[39m\"\u001b[39m] \u001b[39m=\u001b[39m \u001b[39mself\u001b[39;49m\u001b[39m.\u001b[39;49m_reorder_cache(model_kwargs[\u001b[39m\"\u001b[39;49m\u001b[39mpast_key_values\u001b[39;49m\u001b[39m\"\u001b[39;49m], beam_idx)\n\u001b[1;32m   3166\u001b[0m \u001b[39mif\u001b[39;00m return_dict_in_generate \u001b[39mand\u001b[39;00m output_scores:\n\u001b[1;32m   3167\u001b[0m     beam_indices \u001b[39m=\u001b[39m \u001b[39mtuple\u001b[39m((beam_indices[beam_idx[i]] \u001b[39m+\u001b[39m (beam_idx[i],) \u001b[39mfor\u001b[39;00m i \u001b[39min\u001b[39;00m \u001b[39mrange\u001b[39m(\u001b[39mlen\u001b[39m(beam_indices))))\n",
      "File \u001b[0;32m~/miniconda3/envs/new/lib/python3.8/site-packages/transformers/models/t5/modeling_t5.py:1856\u001b[0m, in \u001b[0;36mT5ForConditionalGeneration._reorder_cache\u001b[0;34m(self, past_key_values, beam_idx)\u001b[0m\n\u001b[1;32m   1852\u001b[0m reordered_layer_past_states \u001b[39m=\u001b[39m ()\n\u001b[1;32m   1853\u001b[0m \u001b[39mfor\u001b[39;00m layer_past_state \u001b[39min\u001b[39;00m layer_past_states:\n\u001b[1;32m   1854\u001b[0m     \u001b[39m# need to set correct `past` for each of the four key / value states\u001b[39;00m\n\u001b[1;32m   1855\u001b[0m     reordered_layer_past_states \u001b[39m=\u001b[39m reordered_layer_past_states \u001b[39m+\u001b[39m (\n\u001b[0;32m-> 1856\u001b[0m         layer_past_state\u001b[39m.\u001b[39;49mindex_select(\u001b[39m0\u001b[39;49m, beam_idx\u001b[39m.\u001b[39;49mto(layer_past_state\u001b[39m.\u001b[39;49mdevice)),\n\u001b[1;32m   1857\u001b[0m     )\n\u001b[1;32m   1859\u001b[0m \u001b[39mif\u001b[39;00m reordered_layer_past_states[\u001b[39m0\u001b[39m]\u001b[39m.\u001b[39mshape \u001b[39m!=\u001b[39m layer_past_states[\u001b[39m0\u001b[39m]\u001b[39m.\u001b[39mshape:\n\u001b[1;32m   1860\u001b[0m     \u001b[39mraise\u001b[39;00m \u001b[39mValueError\u001b[39;00m(\n\u001b[1;32m   1861\u001b[0m         \u001b[39mf\u001b[39m\u001b[39m\"\u001b[39m\u001b[39mreordered_layer_past_states[0] shape \u001b[39m\u001b[39m{\u001b[39;00mreordered_layer_past_states[\u001b[39m0\u001b[39m]\u001b[39m.\u001b[39mshape\u001b[39m}\u001b[39;00m\u001b[39m and layer_past_states[0] shape \u001b[39m\u001b[39m{\u001b[39;00mlayer_past_states[\u001b[39m0\u001b[39m]\u001b[39m.\u001b[39mshape\u001b[39m}\u001b[39;00m\u001b[39m mismatched\u001b[39m\u001b[39m\"\u001b[39m\n\u001b[1;32m   1862\u001b[0m     )\n",
      "\u001b[0;31mKeyboardInterrupt\u001b[0m: "
     ]
    }
   ],
   "source": [
    "model = AutoModelForSeq2SeqLM.from_pretrained(\"/ssd_scratch/cvit/aparna/t5_simplification_final\")\n",
    "import pandas as pd\n",
    "test_data = pd.read_csv(\"../../data/10/test.csv\")\n",
    "test_data = test_data.dropna()\n",
    "test_data = test_data.reset_index(drop=True)\n",
    "#take 1000 samples\n",
    "test_data = test_data[:10000]\n",
    "texts = test_data[\"source\"].tolist()\n",
    "labels = test_data[\"target\"].tolist()\n",
    "\n",
    "\n",
    "metrics =[]\n",
    "inpu = []\n",
    "cands = []\n",
    "lab = []\n",
    "max_l = 512\n",
    "num_b = 10\n",
    "num_sub_b =1\n",
    "\n",
    "for  i  in tqdm(range(len(texts))):\n",
    "    text = texts[i]\n",
    "    print(text)\n",
    "    # encode the text into tensor of integers using the appropriate tokenizer\n",
    "    inputs = tokenizer.encode(\"paraphrase: \" + text, return_tensors=\"pt\", max_length=512, truncation=True)\n",
    "\n",
    "    # generate text until the output length (which includes the context length) reaches 50\n",
    "    beam_outputs = model.generate(inputs,max_length=max_l,num_beams=num_b,early_stopping=True,\n",
    "        no_repeat_ngram_size=3,\n",
    "        num_return_sequences=1,\n",
    "        top_k=4, top_p=0.95\n",
    "        # return_dict_in_generate=True,\n",
    "    )\n",
    "    print(\"====================================\")\n",
    "   \n",
    "    for i, beam in enumerate(beam_outputs):\n",
    "        print(\"{} {}\".format(i, tokenizer.decode(beam, skip_special_tokens=True)))\n",
    "        \n"
   ]
  }
 ],
 "metadata": {
  "kernelspec": {
   "display_name": "svoice",
   "language": "python",
   "name": "python3"
  },
  "language_info": {
   "codemirror_mode": {
    "name": "ipython",
    "version": 3
   },
   "file_extension": ".py",
   "mimetype": "text/x-python",
   "name": "python",
   "nbconvert_exporter": "python",
   "pygments_lexer": "ipython3",
   "version": "3.8.18"
  },
  "orig_nbformat": 4
 },
 "nbformat": 4,
 "nbformat_minor": 2
}
