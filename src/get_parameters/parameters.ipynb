{
 "cells": [
  {
   "cell_type": "code",
   "execution_count": 19,
   "metadata": {},
   "outputs": [],
   "source": [
    "import Levenshtein\n",
    "import csv\n",
    "def get_levenshtein_similarity(complex_sentence, simple_sentence):\n",
    "    return Levenshtein.ratio(complex_sentence, simple_sentence)\n",
    "\n",
    "def compresion_ratio(complex_sentence, simple_sentence):\n",
    "    return len(simple_sentence) / len(complex_sentence)\n",
    "\n",
    "def copy_ratio(complex_sentence, simple_sentence):\n",
    "    return len(set(simple_sentence) & set(complex_sentence)) / len(set(complex_sentence))\n",
    "\n",
    "def get_parameters(complex_sentence, simple_sentence):\n",
    "    return get_levenshtein_similarity(complex_sentence, simple_sentence), compresion_ratio(complex_sentence, simple_sentence), copy_ratio(complex_sentence, simple_sentence)\n",
    "\n",
    "\n"
   ]
  },
  {
   "cell_type": "code",
   "execution_count": 20,
   "metadata": {},
   "outputs": [
    {
     "name": "stderr",
     "output_type": "stream",
     "text": [
      "  0%|          | 0/20000 [00:00<?, ?it/s]"
     ]
    },
    {
     "name": "stderr",
     "output_type": "stream",
     "text": [
      " 21%|██▏       | 4293/20000 [00:00<00:00, 23644.74it/s]"
     ]
    },
    {
     "name": "stdout",
     "output_type": "stream",
     "text": [
      "saved\n"
     ]
    },
    {
     "name": "stderr",
     "output_type": "stream",
     "text": [
      "100%|██████████| 20000/20000 [00:00<00:00, 37925.55it/s]\n"
     ]
    }
   ],
   "source": [
    "import pandas as pd\n",
    "from tqdm import tqdm\n",
    "from math import ceil \n",
    "colnames = ['source', 'target']\n",
    "test_data = pd.read_csv(\"../../data/10/valid.tsv\", sep=\"\\t\", quoting=csv.QUOTE_NONE, encoding='utf-8', header=None, names=colnames)\n",
    "test_data = test_data.dropna()\n",
    "test_data = test_data.reset_index(drop=True)\n",
    "#take 1000 samples\n",
    "# test_data = test_data[:10000]\n",
    "texts = test_data[\"source\"].tolist()\n",
    "labels = test_data[\"target\"].tolist()\n",
    "lavenstein_similarities = []\n",
    "compression_ratios = []\n",
    "copy_ratios = []\n",
    "\n",
    "\n",
    "for i in tqdm(range(len(texts))):\n",
    "    #print(texts[i], labels[i])\n",
    "    lavenstein_sim, compression_r, copy_r = get_parameters(texts[i], labels[i])\n",
    "    lavenstein_sim, compression_r, copy_r = ceil(lavenstein_sim* 10) / 10.0 , ceil(compression_r* 10) / 10.0, ceil(copy_r* 10) / 10.0\n",
    "    lavenstein_similarities.append(lavenstein_sim)\n",
    "    compression_ratios.append(compression_r)\n",
    "    copy_ratios.append(copy_r)\n",
    "    if i %100000 == 0:\n",
    "        new_pd = pd.DataFrame(columns=[\"source\",\"target\",\"lavenstein_similarity\", \"compression_ratio\", \"copy_ratio\"])\n",
    "        new_pd[\"source\"] = texts[:i]\n",
    "        new_pd[\"target\"] = labels[:i]\n",
    "        new_pd[\"lavenstein_similarity\"] = lavenstein_similarities[:i]\n",
    "        new_pd[\"compression_ratio\"] = compression_ratios[:i]\n",
    "        new_pd[\"copy_ratio\"] = copy_ratios[:i]\n",
    "        new_pd.to_csv(\"../../data/10/val_with_parameters.csv\", index=False)\n",
    "        print(\"saved\")\n",
    "\n",
    "\n",
    "test_data[\"lavenstein_similarity\"] = lavenstein_similarities\n",
    "test_data[\"compression_ratio\"] = compression_ratios\n",
    "test_data[\"copy_ratio\"] = copy_ratios\n",
    "test_data.to_csv(\"../../data/10/val_with_parameters.csv\", index=False)\n",
    "\n",
    "\n",
    "\n"
   ]
  }
 ],
 "metadata": {
  "kernelspec": {
   "display_name": "new",
   "language": "python",
   "name": "python3"
  },
  "language_info": {
   "codemirror_mode": {
    "name": "ipython",
    "version": 3
   },
   "file_extension": ".py",
   "mimetype": "text/x-python",
   "name": "python",
   "nbconvert_exporter": "python",
   "pygments_lexer": "ipython3",
   "version": "3.8.18"
  },
  "orig_nbformat": 4
 },
 "nbformat": 4,
 "nbformat_minor": 2
}
